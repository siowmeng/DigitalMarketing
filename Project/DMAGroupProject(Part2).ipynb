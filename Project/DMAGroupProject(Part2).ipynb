{
 "cells": [
  {
   "cell_type": "code",
   "execution_count": 1,
   "metadata": {
    "collapsed": false
   },
   "outputs": [],
   "source": [
    "import pandas as pd\n",
    "import numpy as np\n",
    "import matplotlib.pyplot as plt\n",
    "from scipy import stats\n",
    "import statsmodels.api as sm\n",
    "from statsmodels.tools.tools import add_constant\n",
    "from datetime import datetime\n",
    "import scipy\n",
    "from sklearn import preprocessing\n",
    "from sklearn.cluster import AgglomerativeClustering\n",
    "\n",
    "import os\n",
    "os.chdir('D:\\\\Imperial MSc\\\\Electives\\\\Digital Marketing Analytics\\\\Project')"
   ]
  },
  {
   "cell_type": "code",
   "execution_count": 6,
   "metadata": {
    "collapsed": true
   },
   "outputs": [],
   "source": [
    "# Read in Search Data\n",
    "searchData = pd.read_csv('data\\\\train.csv')\n",
    "\n",
    "# Normalise the price to per night prices\n",
    "searchData['price_usd_pernight'] = searchData['price_usd'] / searchData['srch_length_of_stay']\n",
    "\n",
    "# Exponent the log historical price to get the actual hisotircal price\n",
    "searchData['prop_historical_price'] = np.exp(searchData['prop_log_historical_price'])\n",
    "\n",
    "# Create log price column\n",
    "searchData['log_price_usd'] = np.log(searchData['price_usd'])\n",
    "# Some price is 0 and will result in -Inf, these records are converted to NaN\n",
    "searchData.loc[np.isinf(searchData['log_price_usd']), 'log_price_usd'] = np.nan"
   ]
  },
  {
   "cell_type": "markdown",
   "metadata": {},
   "source": [
    "### Part 1, Question 1\n",
    "\n",
    "#### How does the list of hotels displayed to an Expedia user affect the conversion rate for that user? \n",
    "#### Does the listing order matter? If so, how?"
   ]
  },
  {
   "cell_type": "code",
   "execution_count": 26,
   "metadata": {
    "collapsed": false
   },
   "outputs": [
    {
     "name": "stdout",
     "output_type": "stream",
     "text": [
      "Optimization terminated successfully.\n",
      "         Current function value: 0.113248\n",
      "         Iterations 9\n",
      "                           Logit Regression Results                           \n",
      "==============================================================================\n",
      "Dep. Variable:           booking_bool   No. Observations:              9902847\n",
      "Model:                          Logit   Df Residuals:                  9902839\n",
      "Method:                           MLE   Df Model:                            7\n",
      "Date:                Thu, 15 Jun 2017   Pseudo R-squ.:                  0.1110\n",
      "Time:                        15:54:09   Log-Likelihood:            -1.1215e+06\n",
      "converged:                       True   LL-Null:                   -1.2615e+06\n",
      "                                        LLR p-value:                     0.000\n",
      "========================================================================================\n",
      "                           coef    std err          z      P>|z|      [95.0% Conf. Int.]\n",
      "----------------------------------------------------------------------------------------\n",
      "const                   -1.0479      0.016    -64.698      0.000        -1.080    -1.016\n",
      "prop_starrating          0.1006      0.002     41.222      0.000         0.096     0.105\n",
      "prop_review_score        0.1751      0.003     67.555      0.000         0.170     0.180\n",
      "prop_brand_bool          0.1553      0.004     36.077      0.000         0.147     0.164\n",
      "position                -0.1155      0.000   -407.690      0.000        -0.116    -0.115\n",
      "log_price_usd           -0.4825      0.004   -132.138      0.000        -0.490    -0.475\n",
      "promotion_flag           0.1494      0.005     33.069      0.000         0.141     0.158\n",
      "prop_location_score1     0.0120      0.001      8.263      0.000         0.009     0.015\n",
      "========================================================================================\n"
     ]
    }
   ],
   "source": [
    "# Logistic Regression to show effects of position\n",
    "target = ['booking_bool']\n",
    "regressors = ['prop_starrating', 'prop_review_score', 'prop_brand_bool', 'position', 'log_price_usd', 'promotion_flag', \n",
    "              'prop_location_score1']\n",
    "\n",
    "q1logitData = searchData[target + regressors].dropna()\n",
    "\n",
    "logit = sm.Logit(q1logitData[target], add_constant(q1logitData[regressors]))\n",
    "result = logit.fit()\n",
    "print(result.summary())\n"
   ]
  },
  {
   "cell_type": "markdown",
   "metadata": {},
   "source": [
    "### Part 1, Question 5\n",
    "\n",
    "#### Is there value in tailoring the search results based on other characteristics of the user session? If so, which characteristics are most important?"
   ]
  },
  {
   "cell_type": "code",
   "execution_count": 3,
   "metadata": {
    "collapsed": false
   },
   "outputs": [],
   "source": [
    "userLogitData = searchData\n",
    "\n",
    "#userLogitData['dist:review'] = userLogitData['orig_destination_distance'] * userLogitData['prop_review_score']\n",
    "#userLogitData['dist:brand'] = userLogitData['orig_destination_distance'] * userLogitData['prop_brand_bool']\n",
    "\n",
    "userLogitData['adult:lprice'] = userLogitData['srch_adults_count'] * userLogitData['log_price_usd']\n",
    "\n",
    "userLogitData['child:star'] = userLogitData['srch_children_count'] * userLogitData['prop_starrating']\n",
    "userLogitData['child:brand'] = userLogitData['srch_children_count'] * userLogitData['prop_brand_bool']\n",
    "userLogitData['child:lprice'] = userLogitData['srch_children_count'] * userLogitData['log_price_usd']\n",
    "\n",
    "userLogitData['room:promo'] = userLogitData['srch_room_count'] * userLogitData['promotion_flag']\n",
    "userLogitData['room:lprice'] = userLogitData['srch_room_count'] * userLogitData['log_price_usd']\n",
    "\n",
    "userLogitData['los:lprice'] = userLogitData['srch_length_of_stay'] * userLogitData['log_price_usd']\n",
    "userLogitData['los:star'] = userLogitData['srch_length_of_stay'] * userLogitData['prop_starrating']\n",
    "userLogitData['los:location'] = userLogitData['srch_length_of_stay'] * userLogitData['prop_location_score1']\n",
    "userLogitData['los:promo'] = userLogitData['srch_length_of_stay'] * userLogitData['promotion_flag']\n",
    "userLogitData['los:review'] = userLogitData['srch_length_of_stay'] * userLogitData['prop_review_score']"
   ]
  },
  {
   "cell_type": "code",
   "execution_count": 5,
   "metadata": {
    "collapsed": false
   },
   "outputs": [
    {
     "name": "stdout",
     "output_type": "stream",
     "text": [
      "Optimization terminated successfully.\n",
      "         Current function value: 0.112923\n",
      "         Iterations 9\n",
      "                           Logit Regression Results                           \n",
      "==============================================================================\n",
      "Dep. Variable:           booking_bool   No. Observations:              9902847\n",
      "Model:                          Logit   Df Residuals:                  9902829\n",
      "Method:                           MLE   Df Model:                           17\n",
      "Date:                Thu, 15 Jun 2017   Pseudo R-squ.:                  0.1135\n",
      "Time:                        18:58:37   Log-Likelihood:            -1.1183e+06\n",
      "converged:                       True   LL-Null:                   -1.2615e+06\n",
      "                                        LLR p-value:                     0.000\n",
      "========================================================================================\n",
      "                           coef    std err          z      P>|z|      [95.0% Conf. Int.]\n",
      "----------------------------------------------------------------------------------------\n",
      "const                   -0.8049      0.044    -18.314      0.000        -0.891    -0.719\n",
      "prop_starrating          0.1008      0.003     37.280      0.000         0.095     0.106\n",
      "prop_review_score        0.1663      0.003     63.922      0.000         0.161     0.171\n",
      "prop_brand_bool          0.1213      0.005     25.548      0.000         0.112     0.131\n",
      "position                -0.1152      0.000   -406.247      0.000        -0.116    -0.115\n",
      "log_price_usd           -0.4801      0.009    -51.258      0.000        -0.499    -0.462\n",
      "promotion_flag           0.0996      0.007     13.537      0.000         0.085     0.114\n",
      "prop_location_score1    -0.0026      0.002     -1.117      0.264        -0.007     0.002\n",
      "srch_length_of_stay     -0.1193      0.008    -15.198      0.000        -0.135    -0.104\n",
      "srch_children_count     -0.1590      0.022     -7.263      0.000        -0.202    -0.116\n",
      "srch_room_count         -0.0158      0.032     -0.486      0.627        -0.079     0.048\n",
      "child:lprice             0.0211      0.005      4.231      0.000         0.011     0.031\n",
      "child:star               0.0216      0.003      6.758      0.000         0.015     0.028\n",
      "child:brand              0.0200      0.006      3.435      0.001         0.009     0.031\n",
      "room:lprice              0.0114      0.007      1.698      0.089        -0.002     0.025\n",
      "los:lprice              -0.0027      0.002     -1.664      0.096        -0.006     0.000\n",
      "los:location             0.0101      0.001     12.097      0.000         0.008     0.012\n",
      "los:promo                0.0367      0.003     14.559      0.000         0.032     0.042\n",
      "========================================================================================\n"
     ]
    }
   ],
   "source": [
    "# Logistic Regression to show effects of user chracteristics\n",
    "target = ['booking_bool']\n",
    "regressors = ['prop_starrating', 'prop_review_score', 'prop_brand_bool', 'position', 'log_price_usd', 'promotion_flag', \n",
    "              'prop_location_score1', 'srch_length_of_stay', 'srch_children_count', 'srch_room_count', 'child:lprice', \n",
    "              'child:star', 'child:brand', 'room:lprice', 'los:lprice', 'los:location', 'los:promo']\n",
    "\n",
    "q1logitData = userLogitData[target + regressors].dropna()\n",
    "\n",
    "logit = sm.Logit(q1logitData[target], add_constant(q1logitData[regressors]))\n",
    "result = logit.fit()\n",
    "print(result.summary())"
   ]
  },
  {
   "cell_type": "markdown",
   "metadata": {},
   "source": [
    "### Part 1, Question 6\n",
    "\n",
    "#### Should results be tailored based on which channel (search engine, tripadvisor.com, etc.) the customer arrived to Expedia through? If so, how?"
   ]
  },
  {
   "cell_type": "code",
   "execution_count": 3,
   "metadata": {
    "collapsed": false
   },
   "outputs": [],
   "source": [
    "siteConvRate = searchData.groupby(['site_id'])[['booking_bool', 'click_bool']].agg(['mean', 'count'])"
   ]
  },
  {
   "cell_type": "code",
   "execution_count": 18,
   "metadata": {
    "collapsed": false
   },
   "outputs": [
    {
     "data": {
      "text/html": [
       "<div>\n",
       "<table border=\"1\" class=\"dataframe\">\n",
       "  <thead>\n",
       "    <tr>\n",
       "      <th></th>\n",
       "      <th colspan=\"2\" halign=\"left\">booking_bool</th>\n",
       "      <th colspan=\"2\" halign=\"left\">click_bool</th>\n",
       "    </tr>\n",
       "    <tr>\n",
       "      <th></th>\n",
       "      <th>mean</th>\n",
       "      <th>count</th>\n",
       "      <th>mean</th>\n",
       "      <th>count</th>\n",
       "    </tr>\n",
       "    <tr>\n",
       "      <th>site_id</th>\n",
       "      <th></th>\n",
       "      <th></th>\n",
       "      <th></th>\n",
       "      <th></th>\n",
       "    </tr>\n",
       "  </thead>\n",
       "  <tbody>\n",
       "    <tr>\n",
       "      <th>19</th>\n",
       "      <td>0.020662</td>\n",
       "      <td>82566</td>\n",
       "      <td>0.058111</td>\n",
       "      <td>82566</td>\n",
       "    </tr>\n",
       "    <tr>\n",
       "      <th>10</th>\n",
       "      <td>0.021762</td>\n",
       "      <td>19346</td>\n",
       "      <td>0.045901</td>\n",
       "      <td>19346</td>\n",
       "    </tr>\n",
       "    <tr>\n",
       "      <th>9</th>\n",
       "      <td>0.023500</td>\n",
       "      <td>82298</td>\n",
       "      <td>0.047984</td>\n",
       "      <td>82298</td>\n",
       "    </tr>\n",
       "    <tr>\n",
       "      <th>25</th>\n",
       "      <td>0.023623</td>\n",
       "      <td>24764</td>\n",
       "      <td>0.047731</td>\n",
       "      <td>24764</td>\n",
       "    </tr>\n",
       "    <tr>\n",
       "      <th>4</th>\n",
       "      <td>0.023639</td>\n",
       "      <td>27243</td>\n",
       "      <td>0.048710</td>\n",
       "      <td>27243</td>\n",
       "    </tr>\n",
       "    <tr>\n",
       "      <th>17</th>\n",
       "      <td>0.023915</td>\n",
       "      <td>12377</td>\n",
       "      <td>0.056395</td>\n",
       "      <td>12377</td>\n",
       "    </tr>\n",
       "    <tr>\n",
       "      <th>13</th>\n",
       "      <td>0.024350</td>\n",
       "      <td>17372</td>\n",
       "      <td>0.052844</td>\n",
       "      <td>17372</td>\n",
       "    </tr>\n",
       "    <tr>\n",
       "      <th>16</th>\n",
       "      <td>0.024769</td>\n",
       "      <td>181436</td>\n",
       "      <td>0.047041</td>\n",
       "      <td>181436</td>\n",
       "    </tr>\n",
       "    <tr>\n",
       "      <th>12</th>\n",
       "      <td>0.024906</td>\n",
       "      <td>148636</td>\n",
       "      <td>0.048548</td>\n",
       "      <td>148636</td>\n",
       "    </tr>\n",
       "    <tr>\n",
       "      <th>2</th>\n",
       "      <td>0.024926</td>\n",
       "      <td>11875</td>\n",
       "      <td>0.047916</td>\n",
       "      <td>11875</td>\n",
       "    </tr>\n",
       "    <tr>\n",
       "      <th>34</th>\n",
       "      <td>0.025036</td>\n",
       "      <td>20251</td>\n",
       "      <td>0.050319</td>\n",
       "      <td>20251</td>\n",
       "    </tr>\n",
       "    <tr>\n",
       "      <th>32</th>\n",
       "      <td>0.025570</td>\n",
       "      <td>355805</td>\n",
       "      <td>0.047942</td>\n",
       "      <td>355805</td>\n",
       "    </tr>\n",
       "    <tr>\n",
       "      <th>18</th>\n",
       "      <td>0.025944</td>\n",
       "      <td>258751</td>\n",
       "      <td>0.049155</td>\n",
       "      <td>258751</td>\n",
       "    </tr>\n",
       "    <tr>\n",
       "      <th>26</th>\n",
       "      <td>0.026494</td>\n",
       "      <td>33291</td>\n",
       "      <td>0.050104</td>\n",
       "      <td>33291</td>\n",
       "    </tr>\n",
       "    <tr>\n",
       "      <th>29</th>\n",
       "      <td>0.026639</td>\n",
       "      <td>59011</td>\n",
       "      <td>0.046771</td>\n",
       "      <td>59011</td>\n",
       "    </tr>\n",
       "    <tr>\n",
       "      <th>1</th>\n",
       "      <td>0.026729</td>\n",
       "      <td>22298</td>\n",
       "      <td>0.050004</td>\n",
       "      <td>22298</td>\n",
       "    </tr>\n",
       "    <tr>\n",
       "      <th>11</th>\n",
       "      <td>0.027060</td>\n",
       "      <td>69698</td>\n",
       "      <td>0.045726</td>\n",
       "      <td>69698</td>\n",
       "    </tr>\n",
       "    <tr>\n",
       "      <th>23</th>\n",
       "      <td>0.027271</td>\n",
       "      <td>24128</td>\n",
       "      <td>0.048408</td>\n",
       "      <td>24128</td>\n",
       "    </tr>\n",
       "    <tr>\n",
       "      <th>22</th>\n",
       "      <td>0.027357</td>\n",
       "      <td>82135</td>\n",
       "      <td>0.050709</td>\n",
       "      <td>82135</td>\n",
       "    </tr>\n",
       "    <tr>\n",
       "      <th>14</th>\n",
       "      <td>0.027829</td>\n",
       "      <td>964105</td>\n",
       "      <td>0.044252</td>\n",
       "      <td>964105</td>\n",
       "    </tr>\n",
       "    <tr>\n",
       "      <th>5</th>\n",
       "      <td>0.028156</td>\n",
       "      <td>6164803</td>\n",
       "      <td>0.043368</td>\n",
       "      <td>6164803</td>\n",
       "    </tr>\n",
       "    <tr>\n",
       "      <th>15</th>\n",
       "      <td>0.028210</td>\n",
       "      <td>618620</td>\n",
       "      <td>0.045262</td>\n",
       "      <td>618620</td>\n",
       "    </tr>\n",
       "    <tr>\n",
       "      <th>24</th>\n",
       "      <td>0.030162</td>\n",
       "      <td>475893</td>\n",
       "      <td>0.048231</td>\n",
       "      <td>475893</td>\n",
       "    </tr>\n",
       "    <tr>\n",
       "      <th>7</th>\n",
       "      <td>0.034868</td>\n",
       "      <td>64157</td>\n",
       "      <td>0.045950</td>\n",
       "      <td>64157</td>\n",
       "    </tr>\n",
       "    <tr>\n",
       "      <th>31</th>\n",
       "      <td>0.043752</td>\n",
       "      <td>50009</td>\n",
       "      <td>0.048031</td>\n",
       "      <td>50009</td>\n",
       "    </tr>\n",
       "  </tbody>\n",
       "</table>\n",
       "</div>"
      ],
      "text/plain": [
       "        booking_bool          click_bool         \n",
       "                mean    count       mean    count\n",
       "site_id                                          \n",
       "19          0.020662    82566   0.058111    82566\n",
       "10          0.021762    19346   0.045901    19346\n",
       "9           0.023500    82298   0.047984    82298\n",
       "25          0.023623    24764   0.047731    24764\n",
       "4           0.023639    27243   0.048710    27243\n",
       "17          0.023915    12377   0.056395    12377\n",
       "13          0.024350    17372   0.052844    17372\n",
       "16          0.024769   181436   0.047041   181436\n",
       "12          0.024906   148636   0.048548   148636\n",
       "2           0.024926    11875   0.047916    11875\n",
       "34          0.025036    20251   0.050319    20251\n",
       "32          0.025570   355805   0.047942   355805\n",
       "18          0.025944   258751   0.049155   258751\n",
       "26          0.026494    33291   0.050104    33291\n",
       "29          0.026639    59011   0.046771    59011\n",
       "1           0.026729    22298   0.050004    22298\n",
       "11          0.027060    69698   0.045726    69698\n",
       "23          0.027271    24128   0.048408    24128\n",
       "22          0.027357    82135   0.050709    82135\n",
       "14          0.027829   964105   0.044252   964105\n",
       "5           0.028156  6164803   0.043368  6164803\n",
       "15          0.028210   618620   0.045262   618620\n",
       "24          0.030162   475893   0.048231   475893\n",
       "7           0.034868    64157   0.045950    64157\n",
       "31          0.043752    50009   0.048031    50009"
      ]
     },
     "execution_count": 18,
     "metadata": {},
     "output_type": "execute_result"
    }
   ],
   "source": [
    "# Only consider those with more than 10000 counts (representative sample size)\n",
    "siteConvRate.loc[siteConvRate['booking_bool']['count'] > 10000, :].sort_values(by = ('booking_bool', 'mean'))"
   ]
  },
  {
   "cell_type": "code",
   "execution_count": 5,
   "metadata": {
    "collapsed": false
   },
   "outputs": [
    {
     "data": {
      "image/png": "[encoded data removed]",
      "text/plain": [
       "<matplotlib.figure.Figure at 0x209c198b550>"
      ]
     },
     "metadata": {},
     "output_type": "display_data"
    }
   ],
   "source": [
    "# Focus on site IDs 19, 17, and 13\n",
    "siteIDvisitorCtry = searchData.groupby(['site_id'])['visitor_location_country_id'].agg(lambda x: len(np.unique(x)))\n",
    "\n",
    "plt.figure(figsize = (16, 10))\n",
    "plt.barh(np.arange(1, len(siteIDvisitorCtry)+1), siteIDvisitorCtry.as_matrix(), align = 'center', alpha = 0.5)\n",
    "plt.yticks(np.arange(1, len(siteIDvisitorCtry)+1), np.arange(1, len(siteIDvisitorCtry)+1), rotation = 0)\n",
    "plt.title(\"Number of Unique Countries Visitors Come From for each Site ID\")\n",
    "plt.ylabel(\"Site ID\")\n",
    "plt.xlabel(\"Number of Unique Countries Visitors Come From\")\n",
    "plt.show()\n",
    "plt.close()"
   ]
  },
  {
   "cell_type": "code",
   "execution_count": 6,
   "metadata": {
    "collapsed": false
   },
   "outputs": [
    {
     "data": {
      "image/png": "[encoded data removed]",
      "text/plain": [
       "<matplotlib.figure.Figure at 0x20a2567fd68>"
      ]
     },
     "metadata": {},
     "output_type": "display_data"
    }
   ],
   "source": [
    "# Focus on site IDs 19, 17, and 13\n",
    "siteIDsrchDest = searchData.groupby(['site_id'])['srch_destination_id'].agg(lambda x: len(np.unique(x)))\n",
    "\n",
    "plt.figure(figsize = (16, 10))\n",
    "plt.barh(np.arange(1, len(siteIDsrchDest)+1), siteIDsrchDest.as_matrix(), align = 'center', alpha = 0.5)\n",
    "plt.yticks(np.arange(1, len(siteIDsrchDest)+1), np.arange(1, len(siteIDsrchDest)+1), rotation = 0)\n",
    "plt.title(\"Number of Unique Search Destinations for each Site ID\")\n",
    "plt.ylabel(\"Site ID\")\n",
    "plt.xlabel(\"Number of Unique Search Destinations\")\n",
    "plt.show()\n",
    "plt.close()"
   ]
  },
  {
   "cell_type": "code",
   "execution_count": 11,
   "metadata": {
    "collapsed": false
   },
   "outputs": [],
   "source": [
    "siteIDRegressionData = searchData\n",
    "\n",
    "# Construct Site 13 dummy\n",
    "siteIDRegressionData['site13'] = (siteIDRegressionData['site_id'] == 13)\n",
    "siteIDRegressionData['site13'] = siteIDRegressionData['site13'].astype(int)\n",
    "\n",
    "# Construct Site 17 dummy\n",
    "siteIDRegressionData['site17'] = (siteIDRegressionData['site_id'] == 17)\n",
    "siteIDRegressionData['site17'] = siteIDRegressionData['site17'].astype(int)\n",
    "\n",
    "# Construct Site 19 dummy\n",
    "siteIDRegressionData['site19'] = (siteIDRegressionData['site_id'] == 19)\n",
    "siteIDRegressionData['site19'] = siteIDRegressionData['site19'].astype(int)\n",
    "\n",
    "# Interacting site with promotion\n",
    "siteIDRegressionData['site13:promo'] = siteIDRegressionData['site13'] * siteIDRegressionData['promotion_flag']\n",
    "siteIDRegressionData['site17:promo'] = siteIDRegressionData['site17'] * siteIDRegressionData['promotion_flag']\n",
    "siteIDRegressionData['site19:promo'] = siteIDRegressionData['site19'] * siteIDRegressionData['promotion_flag']\n",
    "\n",
    "# Interacting site with brand_bool\n",
    "siteIDRegressionData['site13:brand'] = siteIDRegressionData['site13'] * siteIDRegressionData['prop_brand_bool']\n",
    "siteIDRegressionData['site17:brand'] = siteIDRegressionData['site17'] * siteIDRegressionData['prop_brand_bool']\n",
    "siteIDRegressionData['site19:brand'] = siteIDRegressionData['site19'] * siteIDRegressionData['prop_brand_bool']\n",
    "\n",
    "\n",
    "# Use log price instead\n",
    "#siteIDRegressionData['log_price_usd'] = np.log(siteIDRegressionData['price_usd'])\n",
    "# Some price is 0 and will result in -Inf, these records are converted to NaN and will be dropped later\n",
    "#siteIDRegressionData.loc[np.isinf(siteIDRegressionData['log_price_usd']), 'log_price_usd'] = np.nan\n"
   ]
  },
  {
   "cell_type": "code",
   "execution_count": 12,
   "metadata": {
    "collapsed": false
   },
   "outputs": [
    {
     "name": "stdout",
     "output_type": "stream",
     "text": [
      "Optimization terminated successfully.\n",
      "         Current function value: 0.113212\n",
      "         Iterations 9\n",
      "                           Logit Regression Results                           \n",
      "==============================================================================\n",
      "Dep. Variable:           booking_bool   No. Observations:              9902847\n",
      "Model:                          Logit   Df Residuals:                  9902829\n",
      "Method:                           MLE   Df Model:                           17\n",
      "Date:                Thu, 15 Jun 2017   Pseudo R-squ.:                  0.1113\n",
      "Time:                        15:39:32   Log-Likelihood:            -1.1211e+06\n",
      "converged:                       True   LL-Null:                   -1.2615e+06\n",
      "                                        LLR p-value:                     0.000\n",
      "=============================================================================================\n",
      "                                coef    std err          z      P>|z|      [95.0% Conf. Int.]\n",
      "---------------------------------------------------------------------------------------------\n",
      "const                        -0.9828      0.017    -59.437      0.000        -1.015    -0.950\n",
      "site13                       -0.2036      0.073     -2.803      0.005        -0.346    -0.061\n",
      "site17                       -0.5316      0.098     -5.427      0.000        -0.724    -0.340\n",
      "site19                       -0.6535      0.037    -17.430      0.000        -0.727    -0.580\n",
      "prop_starrating               0.1075      0.002     43.637      0.000         0.103     0.112\n",
      "prop_review_score             0.1713      0.003     65.789      0.000         0.166     0.176\n",
      "prop_brand_bool               0.1482      0.004     34.264      0.000         0.140     0.157\n",
      "prop_location_score1          0.0127      0.001      8.728      0.000         0.010     0.016\n",
      "prop_log_historical_price    -0.0048      0.001     -4.379      0.000        -0.007    -0.003\n",
      "position                     -0.1156      0.000   -407.769      0.000        -0.116    -0.115\n",
      "log_price_usd                -0.4916      0.004   -133.107      0.000        -0.499    -0.484\n",
      "promotion_flag                0.1482      0.005     32.631      0.000         0.139     0.157\n",
      "site13:promo                 -0.0349      0.102     -0.343      0.732        -0.234     0.165\n",
      "site17:promo                  0.0713      0.121      0.590      0.555        -0.166     0.308\n",
      "site19:promo                  0.0127      0.051      0.248      0.804        -0.088     0.113\n",
      "site13:brand                 -0.2181      0.110     -1.989      0.047        -0.433    -0.003\n",
      "site17:brand                  0.2519      0.125      2.012      0.044         0.007     0.497\n",
      "site19:brand                  0.2264      0.051      4.435      0.000         0.126     0.326\n",
      "=============================================================================================\n"
     ]
    }
   ],
   "source": [
    "# Logistic Regression to show interaction effects of site:promo and site:brand\n",
    "target = ['booking_bool']\n",
    "regressors = ['site13', 'site17', 'site19', 'prop_starrating', 'prop_review_score', 'prop_brand_bool', 'prop_location_score1', \n",
    "              'prop_log_historical_price', 'position', 'log_price_usd', 'promotion_flag', 'site13:promo', 'site17:promo', \n",
    "              'site19:promo', 'site13:brand', 'site17:brand', 'site19:brand']\n",
    "\n",
    "siteIDlogitData = siteIDRegressionData[target + regressors].dropna()\n",
    "\n",
    "logit = sm.Logit(siteIDlogitData[target], add_constant(siteIDlogitData[regressors]))\n",
    "result = logit.fit()\n",
    "print(result.summary())"
   ]
  },
  {
   "cell_type": "code",
   "execution_count": 24,
   "metadata": {
    "collapsed": false
   },
   "outputs": [
    {
     "data": {
      "text/plain": [
       "37.62379070191872"
      ]
     },
     "execution_count": 24,
     "metadata": {},
     "output_type": "execute_result"
    }
   ],
   "source": [
    "# Global Average number of days between search date and travel date (date to stay in hotel)\n",
    "searchData['srch_booking_window'].mean()"
   ]
  },
  {
   "cell_type": "code",
   "execution_count": 25,
   "metadata": {
    "collapsed": false
   },
   "outputs": [
    {
     "data": {
      "text/plain": [
       "site_id\n",
       "1     57.281595\n",
       "2     53.504337\n",
       "3     27.763222\n",
       "4     56.411776\n",
       "5     31.101286\n",
       "6     29.781777\n",
       "7     35.634568\n",
       "8     22.000000\n",
       "9     31.113332\n",
       "10    44.987853\n",
       "11    65.188241\n",
       "12    49.261666\n",
       "13    39.891780\n",
       "14    37.706992\n",
       "15    55.334850\n",
       "16    40.495194\n",
       "17    31.631979\n",
       "18    63.093542\n",
       "19    25.818533\n",
       "20    26.733871\n",
       "21    53.141882\n",
       "22    42.109831\n",
       "23    52.988934\n",
       "24    47.195466\n",
       "25    38.624495\n",
       "26    33.511790\n",
       "27    62.200848\n",
       "28    56.474188\n",
       "29    58.363305\n",
       "30    38.826877\n",
       "31    32.992881\n",
       "32    72.193249\n",
       "33    13.529889\n",
       "34    34.660313\n",
       "Name: srch_booking_window, dtype: float64"
      ]
     },
     "execution_count": 25,
     "metadata": {},
     "output_type": "execute_result"
    }
   ],
   "source": [
    "# Average number of days between search date and travel date (date to stay in hotel), grouped by site ID\n",
    "searchData.groupby(['site_id'])['srch_booking_window'].mean()"
   ]
  },
  {
   "cell_type": "code",
   "execution_count": 12,
   "metadata": {
    "collapsed": false
   },
   "outputs": [
    {
     "data": {
      "text/plain": [
       "Ttest_indResult(statistic=93.232516320887243, pvalue=0.0)"
      ]
     },
     "execution_count": 12,
     "metadata": {},
     "output_type": "execute_result"
    }
   ],
   "source": [
    "# Two Sample T-Test of Means (Overall vs Site 19)\n",
    "scipy.stats.ttest_ind(searchData['srch_booking_window'].as_matrix(), \n",
    "                      searchData.loc[searchData['site_id'] == 19, 'srch_booking_window'].as_matrix(), equal_var = False)"
   ]
  },
  {
   "cell_type": "markdown",
   "metadata": {},
   "source": [
    "### Part 2a: Identifying Competitors using Descriptive Stats"
   ]
  },
  {
   "cell_type": "code",
   "execution_count": 3,
   "metadata": {
    "collapsed": false
   },
   "outputs": [
    {
     "name": "stdout",
     "output_type": "stream",
     "text": [
      "Number of Unique Hotel Chains: 53115\n"
     ]
    }
   ],
   "source": [
    "# Hotel Chain Unique ID (brand_bool = 1)\n",
    "HotelChainID = np.unique(searchData.loc[searchData['prop_brand_bool'] == 1, 'prop_id'])\n",
    "\n",
    "print(\"Number of Unique Hotel Chains:\", len(HotelChainID))\n",
    "\n",
    "np.random.seed(123)\n",
    "# Randomly sample 1000 IDs from the list\n",
    "sampleHotel = np.random.choice(HotelChainID, size = 1000)\n",
    "\n",
    "# For each of the sample hotel, extract the records of its competing hotels\n",
    "sampleCompetitorsList = []\n",
    "attrs = ['srch_id', 'prop_id', 'prop_country_id', 'prop_starrating', 'prop_review_score', 'prop_brand_bool', \n",
    "         'prop_location_score1', 'prop_historical_price', 'price_usd', 'price_usd_pernight', 'promotion_flag', \n",
    "         'orig_destination_distance']\n",
    "\n",
    "for hotel in sampleHotel:\n",
    "    srchIDs = list(searchData.loc[searchData['prop_id'] == hotel, 'srch_id'])\n",
    "    competitors = searchData.loc[searchData['srch_id'].isin(srchIDs), attrs]\n",
    "    sampleCompetitorsList.append(competitors)"
   ]
  },
  {
   "cell_type": "markdown",
   "metadata": {},
   "source": [
    "#### Number of Unique Locations for Competitors"
   ]
  },
  {
   "cell_type": "code",
   "execution_count": 4,
   "metadata": {
    "collapsed": false
   },
   "outputs": [
    {
     "data": {
      "image/png": "[encoded data removed]",
      "text/plain": [
       "<matplotlib.figure.Figure at 0x1b028b90a90>"
      ]
     },
     "metadata": {},
     "output_type": "display_data"
    }
   ],
   "source": [
    "numUniqueCtry = []\n",
    "for sampleCompetitors in sampleCompetitorsList:\n",
    "    # Get the number of unique countries per search\n",
    "    uniqueCtryPerSrch = sampleCompetitors.groupby(['srch_id']).agg({'prop_country_id': lambda x: len(np.unique(x))})\n",
    "    numUniqueCtry += list(uniqueCtryPerSrch['prop_country_id'])\n",
    "\n",
    "plt.boxplot(numUniqueCtry)\n",
    "plt.show()\n",
    "plt.close()"
   ]
  },
  {
   "cell_type": "code",
   "execution_count": 5,
   "metadata": {
    "collapsed": false
   },
   "outputs": [
    {
     "name": "stdout",
     "output_type": "stream",
     "text": [
      "Percentage of Searches Involving Competitors Located in Different Country: 0.45%\n"
     ]
    }
   ],
   "source": [
    "print(\"Percentage of Searches Involving Competitors Located in Different Country: %.2f%%\" % \\\n",
    "      (np.sum(np.array(numUniqueCtry) != 1) / len(numUniqueCtry) * 100))"
   ]
  },
  {
   "cell_type": "code",
   "execution_count": 6,
   "metadata": {
    "collapsed": false
   },
   "outputs": [
    {
     "name": "stdout",
     "output_type": "stream",
     "text": [
      "Median:  1.0\n",
      "Mean:  1.00451771742\n",
      "Std Dev: 0.0670619686895\n"
     ]
    }
   ],
   "source": [
    "print(\"Median: \", np.median(numUniqueCtry))\n",
    "print(\"Mean: \", np.mean(numUniqueCtry))\n",
    "print(\"Std Dev:\", np.std(numUniqueCtry))"
   ]
  },
  {
   "cell_type": "markdown",
   "metadata": {},
   "source": [
    "#### Star Rating & Review Score"
   ]
  },
  {
   "cell_type": "code",
   "execution_count": 7,
   "metadata": {
    "collapsed": false
   },
   "outputs": [],
   "source": [
    "competeRatingCentred = []\n",
    "competeReviewCentred = []\n",
    "\n",
    "# For each hotel chain and its competitors\n",
    "for hotel, sampleCompetitors in zip(sampleHotel, sampleCompetitorsList):\n",
    "    \n",
    "    # Extract the Hotel Chain's Star Rating and Review Score\n",
    "    hotelScore = sampleCompetitors.loc[sampleCompetitors['prop_id'] == hotel, ['srch_id', 'prop_starrating', \n",
    "                                                                               'prop_review_score']]\n",
    "    hotelScore = hotelScore.rename(columns = {'prop_starrating': 'target_prop_starrating', \n",
    "                                              'prop_review_score': 'target_prop_review_score'})\n",
    "    \n",
    "    # Subtract the hotel chain's star rating and review score from competitor's star rating / review score\n",
    "    mergedDF = sampleCompetitors.merge(hotelScore, how = 'left', on = 'srch_id')\n",
    "    mergedDF['centred_prop_starrating'] = mergedDF['prop_starrating'] - mergedDF['target_prop_starrating']\n",
    "    mergedDF['centred_prop_review_score'] = mergedDF['prop_review_score'] - mergedDF['target_prop_review_score']\n",
    "    competeRatingCentred += list(mergedDF['centred_prop_starrating'])\n",
    "    competeReviewCentred += list(mergedDF['centred_prop_review_score'])\n"
   ]
  },
  {
   "cell_type": "code",
   "execution_count": 8,
   "metadata": {
    "collapsed": false
   },
   "outputs": [
    {
     "name": "stdout",
     "output_type": "stream",
     "text": [
      "Median star rating difference between hotel chain and its competitors: 0.000000\n",
      "Average star rating difference between hotel chain and its competitors: -0.062\n",
      "Standard deviation - star rating difference between hotel chain and its competitors: 1.031\n",
      "Percentage of Competitors with Same Star Rating: 45.39%\n",
      "Percentage of Competitors with Star Rating Difference less than 1: 88.75%\n"
     ]
    }
   ],
   "source": [
    "print(\"Median star rating difference between hotel chain and its competitors: %f\" % np.median(competeRatingCentred))\n",
    "print(\"Average star rating difference between hotel chain and its competitors: %.3f\" % np.mean(competeRatingCentred))\n",
    "print(\"Standard deviation - star rating difference between hotel chain and its competitors: %.3f\" % np.std(competeRatingCentred))\n",
    "print(\"Percentage of Competitors with Same Star Rating: %.2f%%\" % \\\n",
    "      (np.sum(np.array(competeRatingCentred) == 0) / len(competeRatingCentred) * 100))\n",
    "print(\"Percentage of Competitors with Star Rating Difference less than 1: %.2f%%\" % \\\n",
    "      (np.sum(abs(np.array(competeRatingCentred)) <= 1) / len(competeRatingCentred) * 100))"
   ]
  },
  {
   "cell_type": "code",
   "execution_count": 9,
   "metadata": {
    "collapsed": false
   },
   "outputs": [
    {
     "data": {
      "image/png": "[encoded data removed]",
      "text/plain": [
       "<matplotlib.figure.Figure at 0x1b10fdff780>"
      ]
     },
     "metadata": {},
     "output_type": "display_data"
    }
   ],
   "source": [
    "# Boxplot of Star Rating Difference\n",
    "plt.boxplot(competeRatingCentred)\n",
    "plt.yticks(np.arange(-5, 6, 1))\n",
    "plt.tick_params(axis = 'x', bottom = 'off', labelbottom = 'off')\n",
    "plt.ylabel(\"Star Rating Difference\")\n",
    "plt.title(\"Boxplot - Star Rating Difference between Hotel Chains and Competitors\")\n",
    "plt.show()\n",
    "plt.close()"
   ]
  },
  {
   "cell_type": "code",
   "execution_count": 10,
   "metadata": {
    "collapsed": false
   },
   "outputs": [
    {
     "name": "stdout",
     "output_type": "stream",
     "text": [
      "Median review score difference between hotel chain and its competitors: 0.000000\n",
      "Average review score difference between hotel chain and its competitors: -0.055\n",
      "Standard deviation - review score difference between hotel chain and its competitors: 1.062\n",
      "Percentage of Competitors with Same Review Score: 31.94%\n",
      "Percentage of Competitors with Star Rating Difference less than 0.5: 70.10%\n",
      "Percentage of Competitors with Star Rating Difference less than 1: 86.44%\n"
     ]
    }
   ],
   "source": [
    "# Some Hotels do not have review scores, these are removed from analysis\n",
    "competeReviewCentred = np.array(competeReviewCentred)\n",
    "competeReviewCentred = competeReviewCentred[~np.isnan(competeReviewCentred)]\n",
    "\n",
    "# Print the statistics\n",
    "print(\"Median review score difference between hotel chain and its competitors: %f\" % np.median(competeReviewCentred))\n",
    "print(\"Average review score difference between hotel chain and its competitors: %.3f\" % np.mean(competeReviewCentred))\n",
    "print(\"Standard deviation - review score difference between hotel chain and its competitors: %.3f\" % np.std(competeReviewCentred))\n",
    "print(\"Percentage of Competitors with Same Review Score: %.2f%%\" % \\\n",
    "      (np.sum(np.array(competeReviewCentred) == 0) / len(competeReviewCentred) * 100))\n",
    "print(\"Percentage of Competitors with Star Rating Difference less than 0.5: %.2f%%\" % \\\n",
    "      (np.sum(abs(np.array(competeReviewCentred)) <= 0.5) / len(competeReviewCentred) * 100))\n",
    "print(\"Percentage of Competitors with Star Rating Difference less than 1: %.2f%%\" % \\\n",
    "      (np.sum(abs(np.array(competeReviewCentred)) <= 1) / len(competeReviewCentred) * 100))"
   ]
  },
  {
   "cell_type": "code",
   "execution_count": 11,
   "metadata": {
    "collapsed": false
   },
   "outputs": [
    {
     "data": {
      "image/png": "[encoded data removed]",
      "text/plain": [
       "<matplotlib.figure.Figure at 0x1b11b242be0>"
      ]
     },
     "metadata": {},
     "output_type": "display_data"
    }
   ],
   "source": [
    "# Boxplot of Review Score Difference\n",
    "plt.boxplot(competeReviewCentred)\n",
    "plt.yticks(np.arange(-5, 6, 1))\n",
    "plt.tick_params(axis = 'x', bottom = 'off', labelbottom = 'off')\n",
    "plt.ylabel(\"Review Score Difference\")\n",
    "plt.title(\"Boxplot - Review Score Difference between Hotel Chains and Competitors\")\n",
    "plt.show()\n",
    "plt.close()"
   ]
  },
  {
   "cell_type": "markdown",
   "metadata": {},
   "source": [
    "#### Hotel Brand Bool Proportion Test"
   ]
  },
  {
   "cell_type": "code",
   "execution_count": 12,
   "metadata": {
    "collapsed": false
   },
   "outputs": [],
   "source": [
    "allBrandBool = []\n",
    "\n",
    "# For each hotel chain, get the brand_bool of its competitors\n",
    "for sampleCompetitors in sampleCompetitorsList:\n",
    "    competitorsBrand = list(sampleCompetitors['prop_brand_bool'].as_matrix())\n",
    "    allBrandBool += competitorsBrand\n"
   ]
  },
  {
   "cell_type": "code",
   "execution_count": 13,
   "metadata": {
    "collapsed": false
   },
   "outputs": [
    {
     "name": "stdout",
     "output_type": "stream",
     "text": [
      "Number of Hotels shown in all Searches: 9917530\n",
      "Number of Hotel Chains shown in all Searches: 6290731\n",
      "Percentage of Hotel Chains shown in all Searches: 63.43%\n",
      "Number of Hotels shown in searches related to 1000 sample hotel chains: 3537460\n",
      "Number of Hotel Chains shown in searches related to 1000 sample hotel chains: 2715925\n",
      "Percentage of Hotel Chains shown in searches related to 1000 sample hotel chains: 76.78%\n"
     ]
    }
   ],
   "source": [
    "# To get the overall proportion of hotel chains in ALL expedia search results\n",
    "overallHotels = searchData.shape[0]\n",
    "overallBrandHotels = searchData.loc[searchData['prop_brand_bool'] == 1, :].shape[0]\n",
    "\n",
    "# To get the proportion of hotel chains in only the search results including the 1000 sample hotel chains\n",
    "sampleHotels = len(allBrandBool)\n",
    "sampleBrandHotels = np.sum(allBrandBool)\n",
    "\n",
    "print(\"Number of Hotels shown in all Searches:\", overallHotels)\n",
    "print(\"Number of Hotel Chains shown in all Searches:\", overallBrandHotels)\n",
    "print(\"Percentage of Hotel Chains shown in all Searches: %.2f%%\" % (overallBrandHotels / overallHotels * 100))\n",
    "print(\"Number of Hotels shown in searches related to 1000 sample hotel chains:\", sampleHotels)\n",
    "print(\"Number of Hotel Chains shown in searches related to 1000 sample hotel chains:\", sampleBrandHotels)\n",
    "print(\"Percentage of Hotel Chains shown in searches related to 1000 sample hotel chains: %.2f%%\" % \\\n",
    "      (sampleBrandHotels / sampleHotels * 100))"
   ]
  },
  {
   "cell_type": "code",
   "execution_count": 14,
   "metadata": {
    "collapsed": false
   },
   "outputs": [
    {
     "data": {
      "text/plain": [
       "(-458.08967375831821, 0.0)"
      ]
     },
     "execution_count": 14,
     "metadata": {},
     "output_type": "execute_result"
    }
   ],
   "source": [
    "from statsmodels.stats.proportion import proportions_ztest\n",
    "proportions_ztest(np.array([overallBrandHotels, sampleBrandHotels]), np.array([overallHotels, sampleHotels]), 0)"
   ]
  },
  {
   "cell_type": "markdown",
   "metadata": {},
   "source": [
    "### Location Score"
   ]
  },
  {
   "cell_type": "code",
   "execution_count": 15,
   "metadata": {
    "collapsed": true
   },
   "outputs": [],
   "source": [
    "competeLocationCentred = []\n",
    "\n",
    "# For each hotel and its competitors\n",
    "for hotel, sampleCompetitors in zip(sampleHotel, sampleCompetitorsList):\n",
    "    \n",
    "    # Extract the property location score1 of the hotel\n",
    "    hotelLocScore = sampleCompetitors.loc[sampleCompetitors['prop_id'] == hotel, ['srch_id', 'prop_location_score1']]    \n",
    "    hotelLocScore = hotelLocScore.rename(columns = {'prop_location_score1': 'target_prop_location_score1'})\n",
    "    \n",
    "    # Subtract the score from the hotel's competitors\n",
    "    mergedDF = sampleCompetitors.merge(hotelLocScore, how = 'left', on = 'srch_id')\n",
    "    mergedDF['centred_prop_location_score1'] = mergedDF['prop_location_score1'] - mergedDF['target_prop_location_score1']\n",
    "    competeLocationCentred += list(mergedDF['centred_prop_location_score1'])"
   ]
  },
  {
   "cell_type": "code",
   "execution_count": 16,
   "metadata": {
    "collapsed": false
   },
   "outputs": [
    {
     "name": "stdout",
     "output_type": "stream",
     "text": [
      "Median location score difference between hotel chain and its competitors: 0.000000\n",
      "Average location score difference between hotel chain and its competitors: 0.063\n",
      "Standard deviation - location score difference between hotel chain and its competitors: 1.204\n",
      "Percentage of Competitors with Same Location Score: 11.43%\n",
      "Percentage of Competitors with Location Score Difference less than 0.5: 50.25%\n",
      "Percentage of Competitors with Location Score Difference less than 1: 69.35%\n",
      "Percentage of Competitors with Location Score Difference less than 1.5: 80.97%\n",
      "Percentage of Competitors with Location Score Difference less than 2: 89.47%\n"
     ]
    }
   ],
   "source": [
    "# Print the statistics\n",
    "print(\"Median location score difference between hotel chain and its competitors: %f\" % np.median(competeLocationCentred))\n",
    "print(\"Average location score difference between hotel chain and its competitors: %.3f\" % np.mean(competeLocationCentred))\n",
    "print(\"Standard deviation - location score difference between hotel chain and its competitors: %.3f\" % \\\n",
    "      np.std(competeLocationCentred))\n",
    "print(\"Percentage of Competitors with Same Location Score: %.2f%%\" % \\\n",
    "      (np.sum(np.array(competeLocationCentred) == 0) / len(competeLocationCentred) * 100))\n",
    "print(\"Percentage of Competitors with Location Score Difference less than 0.5: %.2f%%\" % \\\n",
    "      (np.sum(abs(np.array(competeLocationCentred)) <= 0.5) / len(competeLocationCentred) * 100))\n",
    "print(\"Percentage of Competitors with Location Score Difference less than 1: %.2f%%\" % \\\n",
    "      (np.sum(abs(np.array(competeLocationCentred)) <= 1) / len(competeLocationCentred) * 100))\n",
    "print(\"Percentage of Competitors with Location Score Difference less than 1.5: %.2f%%\" % \\\n",
    "      (np.sum(abs(np.array(competeLocationCentred)) <= 1.5) / len(competeLocationCentred) * 100))\n",
    "print(\"Percentage of Competitors with Location Score Difference less than 2: %.2f%%\" % \\\n",
    "      (np.sum(abs(np.array(competeLocationCentred)) <= 2) / len(competeLocationCentred) * 100))"
   ]
  },
  {
   "cell_type": "code",
   "execution_count": 17,
   "metadata": {
    "collapsed": false
   },
   "outputs": [
    {
     "data": {
      "image/png": "[encoded data removed]",
      "text/plain": [
       "<matplotlib.figure.Figure at 0x1b11b479668>"
      ]
     },
     "metadata": {},
     "output_type": "display_data"
    }
   ],
   "source": [
    "# Boxplot of Location Score1 Difference\n",
    "plt.boxplot(competeLocationCentred)\n",
    "plt.yticks(np.arange(-7, 8, 1))\n",
    "plt.tick_params(axis = 'x', bottom = 'off', labelbottom = 'off')\n",
    "plt.ylabel(\"Location Score1 Difference\")\n",
    "plt.title(\"Boxplot - Location Score1 Difference between Hotel Chains and Competitors\")\n",
    "plt.show()\n",
    "plt.close()\n"
   ]
  },
  {
   "cell_type": "markdown",
   "metadata": {},
   "source": [
    "#### Historical Price Ratio"
   ]
  },
  {
   "cell_type": "code",
   "execution_count": 18,
   "metadata": {
    "collapsed": false
   },
   "outputs": [],
   "source": [
    "competeHistPriceCentred = []\n",
    "\n",
    "# For each hotel and its competitors\n",
    "for hotel, sampleCompetitors in zip(sampleHotel, sampleCompetitorsList):\n",
    "    \n",
    "    # Get the price of the hotel in last trading period\n",
    "    hotelHistPrice = sampleCompetitors.loc[sampleCompetitors['prop_id'] == hotel, ['srch_id', 'prop_historical_price']]    \n",
    "    hotelHistPrice = hotelHistPrice.rename(columns = {'prop_historical_price': 'target_prop_historical_price'})\n",
    "    mergedDF = sampleCompetitors.merge(hotelHistPrice, how = 'left', on = 'srch_id')\n",
    "    \n",
    "    # Historical Price Ratio = Historical Price of Competitor / Historical Price of Hotel Chain\n",
    "    mergedDF['centred_prop_historical_price'] \\\n",
    "    = mergedDF['prop_historical_price'] / mergedDF['target_prop_historical_price']\n",
    "    \n",
    "    competeHistPriceCentred += list(mergedDF['centred_prop_historical_price'])"
   ]
  },
  {
   "cell_type": "code",
   "execution_count": 19,
   "metadata": {
    "collapsed": false
   },
   "outputs": [
    {
     "name": "stdout",
     "output_type": "stream",
     "text": [
      "Median Historical Price Ratio (Competitor's Historical Price / Hotel's Historical Price): 1.000000\n",
      "Average Historical Price Ratio (Competitor's Historical Price / Hotel's Historical Price): 1.205\n",
      "Standard deviation - Historical Price Ratio (Competitor's Historical Price / Hotel's Historical Price): 6.062\n",
      "Percentage of Competitors with exactly same historical price: 18.41%\n",
      "Percentage of Competitors with less than 25% Historical Price Difference: 53.29%\n",
      "Percentage of Competitors with less than 50% Historical Price Difference: 79.19%\n",
      "Percentage of Competitors with less than 75% Historical Price Difference: 90.39%\n"
     ]
    }
   ],
   "source": [
    "# Print the statistics\n",
    "print(\"Median Historical Price Ratio (Competitor's Historical Price / Hotel's Historical Price): %f\" % \\\n",
    "      np.median(competeHistPriceCentred))\n",
    "print(\"Average Historical Price Ratio (Competitor's Historical Price / Hotel's Historical Price): %.3f\" % \\\n",
    "      np.mean(competeHistPriceCentred))\n",
    "print(\"Standard deviation - Historical Price Ratio (Competitor's Historical Price / Hotel's Historical Price): %.3f\" % \\\n",
    "      np.std(competeHistPriceCentred))\n",
    "print(\"Percentage of Competitors with exactly same historical price: %.2f%%\" % \\\n",
    "      (np.sum(np.array(competeHistPriceCentred) == 1) / len(competeHistPriceCentred) * 100))\n",
    "print(\"Percentage of Competitors with less than 25%% Historical Price Difference: %.2f%%\" % \\\n",
    "      (np.sum(abs(np.array(competeHistPriceCentred) - 1) <= 0.25) / len(competeHistPriceCentred) * 100))\n",
    "print(\"Percentage of Competitors with less than 50%% Historical Price Difference: %.2f%%\" % \\\n",
    "      (np.sum(abs(np.array(competeHistPriceCentred) - 1) <= 0.50) / len(competeHistPriceCentred) * 100))\n",
    "print(\"Percentage of Competitors with less than 75%% Historical Price Difference: %.2f%%\" % \\\n",
    "      (np.sum(abs(np.array(competeHistPriceCentred) - 1) <= 0.75) / len(competeHistPriceCentred) * 100))"
   ]
  },
  {
   "cell_type": "code",
   "execution_count": 20,
   "metadata": {
    "collapsed": false
   },
   "outputs": [
    {
     "data": {
      "image/png": "[encoded data removed]",
      "text/plain": [
       "<matplotlib.figure.Figure at 0x1b11b479b00>"
      ]
     },
     "metadata": {},
     "output_type": "display_data"
    }
   ],
   "source": [
    "# Boxplot of Historical Price Ratio (Competitor's Historical Price / Hotel's Historical Price)\n",
    "plt.boxplot(competeHistPriceCentred)\n",
    "plt.tick_params(axis = 'x', bottom = 'off', labelbottom = 'off')\n",
    "plt.axis([0, 2, 0, 2])\n",
    "plt.ylabel(\"Historical Price Ratio\")\n",
    "plt.title(\"Boxplot - Historical Price Ratio (Competitor's Price / Hotel's Price)\")\n",
    "plt.show()\n",
    "plt.close()\n"
   ]
  },
  {
   "cell_type": "markdown",
   "metadata": {},
   "source": [
    "#### Price Ratio"
   ]
  },
  {
   "cell_type": "code",
   "execution_count": 4,
   "metadata": {
    "collapsed": false
   },
   "outputs": [],
   "source": [
    "competePriceUSDRatio = []\n",
    "\n",
    "# Fo each hotel and its competitors\n",
    "for hotel, sampleCompetitors in zip(sampleHotel, sampleCompetitorsList):\n",
    "    \n",
    "    # Extract the price of the hotel\n",
    "    hotelPriceUSD = sampleCompetitors.loc[sampleCompetitors['prop_id'] == hotel, ['srch_id', 'price_usd']]\n",
    "    hotelPriceUSD = hotelPriceUSD.rename(columns = {'price_usd': 'target_price_usd'})\n",
    "    \n",
    "    # Divide the competitor's pricing with the hotel's pricing = price ratio\n",
    "    mergedDF = sampleCompetitors.merge(hotelPriceUSD, how = 'left', on = 'srch_id')\n",
    "    mergedDF['price_usd_ratio'] = mergedDF['price_usd'] / mergedDF['target_price_usd']\n",
    "    \n",
    "    competePriceUSDRatio += list(mergedDF['price_usd_ratio'])"
   ]
  },
  {
   "cell_type": "code",
   "execution_count": 5,
   "metadata": {
    "collapsed": false
   },
   "outputs": [
    {
     "name": "stdout",
     "output_type": "stream",
     "text": [
      "Median Price Ratio (Competitor's Price / Hotel's Price): 1.000000\n",
      "Average Price Ratio (Competitor's Price / Hotel's Price): 1.143\n",
      "Standard deviation - Price Ratio (Competitor's Price / Hotel's Price): 1.369\n",
      "Percentage of Competitors with exactly same price: 5.21%\n",
      "Percentage of Competitors with less than 25% Price Difference: 44.14%\n",
      "Percentage of Competitors with less than 50% Price Difference: 72.20%\n",
      "Percentage of Competitors with less than 75% Price Difference: 86.54%\n"
     ]
    }
   ],
   "source": [
    "# Print the statistics\n",
    "print(\"Median Price Ratio (Competitor's Price / Hotel's Price): %f\" % np.median(competePriceUSDRatio))\n",
    "print(\"Average Price Ratio (Competitor's Price / Hotel's Price): %.3f\" % np.mean(competePriceUSDRatio))\n",
    "print(\"Standard deviation - Price Ratio (Competitor's Price / Hotel's Price): %.3f\" % \\\n",
    "      np.std(competePriceUSDRatio))\n",
    "print(\"Percentage of Competitors with exactly same price: %.2f%%\" % \\\n",
    "      (np.sum(np.array(competePriceUSDRatio) == 1) / len(competePriceUSDRatio) * 100))\n",
    "print(\"Percentage of Competitors with less than 25%% Price Difference: %.2f%%\" % \\\n",
    "      (np.sum(abs(np.array(competePriceUSDRatio) - 1) <= 0.25) / len(competePriceUSDRatio) * 100))\n",
    "print(\"Percentage of Competitors with less than 50%% Price Difference: %.2f%%\" % \\\n",
    "      (np.sum(abs(np.array(competePriceUSDRatio) - 1) <= 0.50) / len(competePriceUSDRatio) * 100))\n",
    "print(\"Percentage of Competitors with less than 75%% Price Difference: %.2f%%\" % \\\n",
    "      (np.sum(abs(np.array(competePriceUSDRatio) - 1) <= 0.75) / len(competePriceUSDRatio) * 100))\n"
   ]
  },
  {
   "cell_type": "code",
   "execution_count": 7,
   "metadata": {
    "collapsed": false
   },
   "outputs": [
    {
     "data": {
      "image/png": "[encoded data removed]",
      "text/plain": [
       "<matplotlib.figure.Figure at 0x1ca17b376a0>"
      ]
     },
     "metadata": {},
     "output_type": "display_data"
    }
   ],
   "source": [
    "# Boxplot of Price Ratio (Competitor's Price / Hotel's Price)\n",
    "plt.boxplot(competePriceUSDRatio)\n",
    "#plt.yticks(np.arange(-7, 8, 1))\n",
    "plt.tick_params(axis = 'x', bottom = 'off', labelbottom = 'off')\n",
    "plt.axis([0, 2, 0, 3])\n",
    "plt.ylabel(\"Price Ratio\")\n",
    "plt.title(\"Boxplot - Price Ratio (Competitor's Price / Hotel's Price)\")\n",
    "plt.show()\n",
    "plt.close()\n"
   ]
  },
  {
   "cell_type": "markdown",
   "metadata": {},
   "source": [
    "### Promotion Flag"
   ]
  },
  {
   "cell_type": "code",
   "execution_count": 86,
   "metadata": {
    "collapsed": false
   },
   "outputs": [],
   "source": [
    "# Split into two scenarios, hotel chain has promotion and hotel chain doesn't have promotion\n",
    "promoCompetePrmtFlag = []\n",
    "nonPromoCompetePrmtFlag = []\n",
    "\n",
    "# For each hotel and its competitors\n",
    "for hotel, sampleCompetitors in zip(sampleHotel, sampleCompetitorsList):\n",
    "    \n",
    "    # Get the search IDs that involve sample hotels having promotions\n",
    "    promoSrchID = sampleCompetitors.loc[(sampleCompetitors['prop_id'] == hotel) & (sampleCompetitors['promotion_flag'] == 1), \n",
    "                                        'srch_id'].as_matrix()\n",
    "    \n",
    "    # Scenario 1: Competitors which show up in the same search results when hotel chain is having promotion\n",
    "    promoCompete = sampleCompetitors.loc[sampleCompetitors['srch_id'].isin(promoSrchID), :]\n",
    "    # Scenario 2: Competitors which show up in the same search results when hotel chain is not having promotion\n",
    "    nonPromoCompete = sampleCompetitors.loc[~sampleCompetitors['srch_id'].isin(promoSrchID), :]\n",
    "    \n",
    "    # Promotion Flags of the competitors in these 2 scenarios\n",
    "    promoCompetePrmtFlag += list(promoCompete['promotion_flag'].as_matrix())\n",
    "    nonPromoCompetePrmtFlag += list(nonPromoCompete['promotion_flag'].as_matrix())   "
   ]
  },
  {
   "cell_type": "code",
   "execution_count": 91,
   "metadata": {
    "collapsed": false
   },
   "outputs": [
    {
     "name": "stdout",
     "output_type": "stream",
     "text": [
      "Number of Hotels shown in all Searches: 9917530\n",
      "Number of Promotions shown in all Searches: 2139822\n",
      "Proportion of Promotions shown in all Searches: 21.58%\n",
      "Number of Hotels shown in searches in Scenario 1: 555278\n",
      "Number of Promotions in Scenario 1: 210718\n",
      "Percentages of Promotions in Scenario 1: 37.95%\n",
      "Number of Hotels shown in searches in Scenario 2: 2982182\n",
      "Number of Promotions in Scenario 2: 515941\n",
      "Percentages of Promotions in Scenario 2: 17.30%\n"
     ]
    }
   ],
   "source": [
    "# To get the overall proportion of promotions in ALL expedia search results\n",
    "overallHotels = searchData.shape[0]\n",
    "overallPromoHotels = searchData.loc[searchData['promotion_flag'] == 1, :].shape[0]\n",
    "\n",
    "# Scenario 1: To get the proportion of competitors having promotions when we are having promotions\n",
    "PromoSampleNumHotels = len(promoCompetePrmtFlag)\n",
    "PromoSampleNumPromotions = np.sum(promoCompetePrmtFlag)\n",
    "\n",
    "# Scenario 2: To get the proportion of competitors having promotions when we are not having promotions\n",
    "NonPromoSampleNumHotels = len(nonPromoCompetePrmtFlag)\n",
    "NonPromoSampleNumPromotions = np.sum(nonPromoCompetePrmtFlag)\n",
    "\n",
    "# Overall percentages of promotions\n",
    "print(\"Number of Hotels shown in all Searches:\", overallHotels)\n",
    "print(\"Number of Promotions shown in all Searches:\", overallPromoHotels)\n",
    "print(\"Proportion of Promotions shown in all Searches: %.2f%%\" % ((overallPromoHotels / overallHotels) * 100))\n",
    "\n",
    "# Percentages of promotions in scenario 1\n",
    "print(\"Number of Hotels shown in searches in Scenario 1:\", PromoSampleNumHotels)\n",
    "print(\"Number of Promotions in Scenario 1:\", PromoSampleNumPromotions)\n",
    "print(\"Percentages of Promotions in Scenario 1: %.2f%%\" % ((PromoSampleNumPromotions / PromoSampleNumHotels) * 100))\n",
    "\n",
    "# Percentages of promotions in scenario 2\n",
    "print(\"Number of Hotels shown in searches in Scenario 2:\", NonPromoSampleNumHotels)\n",
    "print(\"Number of Promotions in Scenario 2:\", NonPromoSampleNumPromotions)\n",
    "print(\"Percentages of Promotions in Scenario 2: %.2f%%\" % ((NonPromoSampleNumPromotions / NonPromoSampleNumHotels) * 100))\n"
   ]
  },
  {
   "cell_type": "code",
   "execution_count": 89,
   "metadata": {
    "collapsed": false
   },
   "outputs": [
    {
     "data": {
      "text/plain": [
       "(-284.55674946158825, 0.0)"
      ]
     },
     "execution_count": 89,
     "metadata": {},
     "output_type": "execute_result"
    }
   ],
   "source": [
    "proportions_ztest(np.array([overallPromoHotels, PromoSampleNumPromotions]), np.array([overallHotels, PromoSampleNumHotels]), 0)"
   ]
  },
  {
   "cell_type": "code",
   "execution_count": 90,
   "metadata": {
    "collapsed": false
   },
   "outputs": [
    {
     "data": {
      "text/plain": [
       "(160.10474172582738, 0.0)"
      ]
     },
     "execution_count": 90,
     "metadata": {},
     "output_type": "execute_result"
    }
   ],
   "source": [
    "proportions_ztest(np.array([overallPromoHotels, NonPromoSampleNumPromotions]), \n",
    "                  np.array([overallHotels, NonPromoSampleNumHotels]), 0)"
   ]
  },
  {
   "cell_type": "markdown",
   "metadata": {},
   "source": [
    "### Original Destination Distance between Visitor and Hotel"
   ]
  },
  {
   "cell_type": "code",
   "execution_count": 92,
   "metadata": {
    "collapsed": false
   },
   "outputs": [],
   "source": [
    "competeDistanceCentred = []\n",
    "\n",
    "# For each hotel and its competitors\n",
    "for hotel, sampleCompetitors in zip(sampleHotel, sampleCompetitorsList):\n",
    "    \n",
    "    # Extract the hotel's distance to the user\n",
    "    hotelDist = sampleCompetitors.loc[sampleCompetitors['prop_id'] == hotel, ['srch_id', 'orig_destination_distance']]    \n",
    "    hotelDist = hotelDist.rename(columns = {'orig_destination_distance': 'target_orig_destination_distance'})\n",
    "    \n",
    "    mergedDF = sampleCompetitors.merge(hotelDist, how = 'left', on = 'srch_id')\n",
    "    \n",
    "    # Subtract hotel's distance from competitor's distance: as a proxy to the distances between hotels\n",
    "    mergedDF['centred_orig_destination_distance'] \\\n",
    "    = mergedDF['orig_destination_distance'] - mergedDF['target_orig_destination_distance']\n",
    "    \n",
    "    competeDistanceCentred += list(mergedDF['centred_orig_destination_distance'])"
   ]
  },
  {
   "cell_type": "code",
   "execution_count": 93,
   "metadata": {
    "collapsed": false
   },
   "outputs": [],
   "source": [
    "# Many searches do not have distance between hotel and visitor, these entries are discarded\n",
    "competeDistanceCentred = np.array(competeDistanceCentred)\n",
    "competeDistanceCentred = competeDistanceCentred[~np.isnan(competeDistanceCentred)]"
   ]
  },
  {
   "cell_type": "code",
   "execution_count": 102,
   "metadata": {
    "collapsed": false
   },
   "outputs": [
    {
     "name": "stdout",
     "output_type": "stream",
     "text": [
      "Median Distance Difference between a Hotel Chain and Competitor: 0.000000\n",
      "Average Distance Difference between a Hotel Chain and Competitor: 0.055\n",
      "Standard deviation - Distance Difference between a Hotel Chain and Competitor: 5.873\n",
      "Percentage of Competitors Less Than 0.5km away from our Hotel: 30.34%\n",
      "Percentage of Competitors Less Than 1km away from our Hotel: 42.57%\n",
      "Percentage of Competitors Less Than 1.5km away from our Hotel: 50.69%\n",
      "Percentage of Competitors Less Than 2km away from our Hotel: 57.17%\n",
      "Percentage of Competitors Less Than 2.5km away from our Hotel: 62.51%\n",
      "Percentage of Competitors Less Than 3km away from our Hotel: 67.01%\n",
      "Percentage of Competitors Less Than 3.5km away from our Hotel: 70.85%\n",
      "Percentage of Competitors Less Than 4km away from our Hotel: 74.13%\n",
      "Percentage of Competitors Less Than 4.5km away from our Hotel: 76.88%\n",
      "Percentage of Competitors Less Than 5km away from our Hotel: 79.27%\n"
     ]
    }
   ],
   "source": [
    "# Print the statistics\n",
    "print(\"Median Distance Difference between a Hotel Chain and Competitor: %f\" % np.median(competeDistanceCentred))\n",
    "print(\"Average Distance Difference between a Hotel Chain and Competitor: %.3f\" % np.mean(competeDistanceCentred))\n",
    "print(\"Standard deviation - Distance Difference between a Hotel Chain and Competitor: %.3f\" % \\\n",
    "      np.std(competeDistanceCentred))\n",
    "print(\"Percentage of Competitors Less Than 0.5km away from our Hotel: %.2f%%\" % \\\n",
    "      (np.sum(abs(np.array(competeDistanceCentred)) <= 0.5) / len(competeDistanceCentred) * 100))\n",
    "print(\"Percentage of Competitors Less Than 1km away from our Hotel: %.2f%%\" % \\\n",
    "      (np.sum(abs(np.array(competeDistanceCentred)) <= 1) / len(competeDistanceCentred) * 100))\n",
    "print(\"Percentage of Competitors Less Than 1.5km away from our Hotel: %.2f%%\" % \\\n",
    "      (np.sum(abs(np.array(competeDistanceCentred)) <= 1.5) / len(competeDistanceCentred) * 100))\n",
    "print(\"Percentage of Competitors Less Than 2km away from our Hotel: %.2f%%\" % \\\n",
    "      (np.sum(abs(np.array(competeDistanceCentred)) <= 2) / len(competeDistanceCentred) * 100))\n",
    "print(\"Percentage of Competitors Less Than 2.5km away from our Hotel: %.2f%%\" % \\\n",
    "      (np.sum(abs(np.array(competeDistanceCentred)) <= 2.5) / len(competeDistanceCentred) * 100))\n",
    "print(\"Percentage of Competitors Less Than 3km away from our Hotel: %.2f%%\" % \\\n",
    "      (np.sum(abs(np.array(competeDistanceCentred)) <= 3) / len(competeDistanceCentred) * 100))\n",
    "print(\"Percentage of Competitors Less Than 3.5km away from our Hotel: %.2f%%\" % \\\n",
    "      (np.sum(abs(np.array(competeDistanceCentred)) <= 3.5) / len(competeDistanceCentred) * 100))\n",
    "print(\"Percentage of Competitors Less Than 4km away from our Hotel: %.2f%%\" % \\\n",
    "      (np.sum(abs(np.array(competeDistanceCentred)) <= 4) / len(competeDistanceCentred) * 100))\n",
    "print(\"Percentage of Competitors Less Than 4.5km away from our Hotel: %.2f%%\" % \\\n",
    "      (np.sum(abs(np.array(competeDistanceCentred)) <= 4.5) / len(competeDistanceCentred) * 100))\n",
    "print(\"Percentage of Competitors Less Than 5km away from our Hotel: %.2f%%\" % \\\n",
    "      (np.sum(abs(np.array(competeDistanceCentred)) <= 5) / len(competeDistanceCentred) * 100))\n"
   ]
  },
  {
   "cell_type": "code",
   "execution_count": 101,
   "metadata": {
    "collapsed": false
   },
   "outputs": [
    {
     "data": {
      "image/png": "[encoded data removed]",
      "text/plain": [
       "<matplotlib.figure.Figure at 0x1a75d5cee48>"
      ]
     },
     "metadata": {},
     "output_type": "display_data"
    }
   ],
   "source": [
    "# Boxplot of Physical Distance Difference Between Hotel and its Competitors\n",
    "plt.boxplot(competeDistanceCentred)\n",
    "plt.yticks(np.arange(-7, 8, 1))\n",
    "plt.axis([0, 2, -7, 7])\n",
    "plt.tick_params(axis = 'x', bottom = 'off', labelbottom = 'off')\n",
    "plt.ylabel(\"Physical Distance Difference\")\n",
    "plt.title(\"Boxplot - Physical Distance Difference between Hotel Chains and Competitors\")\n",
    "plt.show()\n",
    "plt.close()\n"
   ]
  },
  {
   "cell_type": "markdown",
   "metadata": {},
   "source": [
    "### Top Hotels with High CTR and Conversion / Impression (Hotels must show up at least 100 times)"
   ]
  },
  {
   "cell_type": "code",
   "execution_count": 174,
   "metadata": {
    "collapsed": false
   },
   "outputs": [],
   "source": [
    "# Calculate CTR and Conversion/Impression Rate\n",
    "bookRate = searchData.groupby(['prop_id'])['booking_bool'].agg(['mean', 'count'])\n",
    "clickRate = searchData.groupby(['prop_id'])['click_bool'].agg(['mean', 'count'])\n",
    "# Select only those that show up at least 100 times in search results\n",
    "bookRate = bookRate.loc[bookRate['count'] >= 100, :]\n",
    "clickRate = clickRate.loc[clickRate['count'] >= 100, :]\n",
    "# Rename columns\n",
    "bookRate = bookRate.rename(columns = {'mean': 'Conversion/Impression'})\n",
    "clickRate = clickRate.rename(columns = {'mean': 'CTR'})\n",
    "# Join the two metrics\n",
    "metricsDF = bookRate.merge(clickRate, how = 'left', left_index = True, right_index = True)\n",
    "metriccsDF = metricsDF[['Conversion/Impression', 'CTR']]"
   ]
  },
  {
   "cell_type": "code",
   "execution_count": 177,
   "metadata": {
    "collapsed": false
   },
   "outputs": [
    {
     "data": {
      "text/html": [
       "<div>\n",
       "<table border=\"1\" class=\"dataframe\">\n",
       "  <thead>\n",
       "    <tr style=\"text-align: right;\">\n",
       "      <th></th>\n",
       "      <th>Conversion/Impression</th>\n",
       "      <th>CTR</th>\n",
       "    </tr>\n",
       "    <tr>\n",
       "      <th>prop_id</th>\n",
       "      <th></th>\n",
       "      <th></th>\n",
       "    </tr>\n",
       "  </thead>\n",
       "  <tbody>\n",
       "    <tr>\n",
       "      <th>88359</th>\n",
       "      <td>0.475248</td>\n",
       "      <td>0.514851</td>\n",
       "    </tr>\n",
       "    <tr>\n",
       "      <th>66456</th>\n",
       "      <td>0.348416</td>\n",
       "      <td>0.380090</td>\n",
       "    </tr>\n",
       "    <tr>\n",
       "      <th>86247</th>\n",
       "      <td>0.343750</td>\n",
       "      <td>0.390625</td>\n",
       "    </tr>\n",
       "    <tr>\n",
       "      <th>60275</th>\n",
       "      <td>0.343284</td>\n",
       "      <td>0.373134</td>\n",
       "    </tr>\n",
       "    <tr>\n",
       "      <th>29792</th>\n",
       "      <td>0.330579</td>\n",
       "      <td>0.371901</td>\n",
       "    </tr>\n",
       "    <tr>\n",
       "      <th>17669</th>\n",
       "      <td>0.315436</td>\n",
       "      <td>0.422819</td>\n",
       "    </tr>\n",
       "    <tr>\n",
       "      <th>8617</th>\n",
       "      <td>0.309211</td>\n",
       "      <td>0.401316</td>\n",
       "    </tr>\n",
       "    <tr>\n",
       "      <th>50355</th>\n",
       "      <td>0.290816</td>\n",
       "      <td>0.331633</td>\n",
       "    </tr>\n",
       "    <tr>\n",
       "      <th>10429</th>\n",
       "      <td>0.284314</td>\n",
       "      <td>0.352941</td>\n",
       "    </tr>\n",
       "    <tr>\n",
       "      <th>115285</th>\n",
       "      <td>0.280000</td>\n",
       "      <td>0.340000</td>\n",
       "    </tr>\n",
       "    <tr>\n",
       "      <th>138287</th>\n",
       "      <td>0.280000</td>\n",
       "      <td>0.297143</td>\n",
       "    </tr>\n",
       "    <tr>\n",
       "      <th>77759</th>\n",
       "      <td>0.266667</td>\n",
       "      <td>0.296296</td>\n",
       "    </tr>\n",
       "    <tr>\n",
       "      <th>92570</th>\n",
       "      <td>0.266187</td>\n",
       "      <td>0.352518</td>\n",
       "    </tr>\n",
       "    <tr>\n",
       "      <th>17270</th>\n",
       "      <td>0.266055</td>\n",
       "      <td>0.284404</td>\n",
       "    </tr>\n",
       "    <tr>\n",
       "      <th>8119</th>\n",
       "      <td>0.262136</td>\n",
       "      <td>0.291262</td>\n",
       "    </tr>\n",
       "    <tr>\n",
       "      <th>98803</th>\n",
       "      <td>0.261725</td>\n",
       "      <td>0.366112</td>\n",
       "    </tr>\n",
       "    <tr>\n",
       "      <th>79140</th>\n",
       "      <td>0.255814</td>\n",
       "      <td>0.286822</td>\n",
       "    </tr>\n",
       "    <tr>\n",
       "      <th>42117</th>\n",
       "      <td>0.250000</td>\n",
       "      <td>0.285714</td>\n",
       "    </tr>\n",
       "    <tr>\n",
       "      <th>23775</th>\n",
       "      <td>0.247863</td>\n",
       "      <td>0.299145</td>\n",
       "    </tr>\n",
       "    <tr>\n",
       "      <th>4548</th>\n",
       "      <td>0.238994</td>\n",
       "      <td>0.267296</td>\n",
       "    </tr>\n",
       "    <tr>\n",
       "      <th>95914</th>\n",
       "      <td>0.237745</td>\n",
       "      <td>0.286765</td>\n",
       "    </tr>\n",
       "    <tr>\n",
       "      <th>88253</th>\n",
       "      <td>0.230769</td>\n",
       "      <td>0.264957</td>\n",
       "    </tr>\n",
       "    <tr>\n",
       "      <th>86791</th>\n",
       "      <td>0.228856</td>\n",
       "      <td>0.258706</td>\n",
       "    </tr>\n",
       "    <tr>\n",
       "      <th>25517</th>\n",
       "      <td>0.224265</td>\n",
       "      <td>0.246324</td>\n",
       "    </tr>\n",
       "    <tr>\n",
       "      <th>32248</th>\n",
       "      <td>0.220183</td>\n",
       "      <td>0.238532</td>\n",
       "    </tr>\n",
       "    <tr>\n",
       "      <th>52496</th>\n",
       "      <td>0.220000</td>\n",
       "      <td>0.230000</td>\n",
       "    </tr>\n",
       "    <tr>\n",
       "      <th>28711</th>\n",
       "      <td>0.219697</td>\n",
       "      <td>0.295455</td>\n",
       "    </tr>\n",
       "    <tr>\n",
       "      <th>20977</th>\n",
       "      <td>0.219081</td>\n",
       "      <td>0.243816</td>\n",
       "    </tr>\n",
       "    <tr>\n",
       "      <th>60049</th>\n",
       "      <td>0.214815</td>\n",
       "      <td>0.259259</td>\n",
       "    </tr>\n",
       "    <tr>\n",
       "      <th>96101</th>\n",
       "      <td>0.213974</td>\n",
       "      <td>0.244541</td>\n",
       "    </tr>\n",
       "    <tr>\n",
       "      <th>...</th>\n",
       "      <td>...</td>\n",
       "      <td>...</td>\n",
       "    </tr>\n",
       "    <tr>\n",
       "      <th>136251</th>\n",
       "      <td>0.000000</td>\n",
       "      <td>0.000000</td>\n",
       "    </tr>\n",
       "    <tr>\n",
       "      <th>136259</th>\n",
       "      <td>0.000000</td>\n",
       "      <td>0.000000</td>\n",
       "    </tr>\n",
       "    <tr>\n",
       "      <th>136530</th>\n",
       "      <td>0.000000</td>\n",
       "      <td>0.000000</td>\n",
       "    </tr>\n",
       "    <tr>\n",
       "      <th>136729</th>\n",
       "      <td>0.000000</td>\n",
       "      <td>0.000000</td>\n",
       "    </tr>\n",
       "    <tr>\n",
       "      <th>136999</th>\n",
       "      <td>0.000000</td>\n",
       "      <td>0.000000</td>\n",
       "    </tr>\n",
       "    <tr>\n",
       "      <th>137300</th>\n",
       "      <td>0.000000</td>\n",
       "      <td>0.000000</td>\n",
       "    </tr>\n",
       "    <tr>\n",
       "      <th>137621</th>\n",
       "      <td>0.000000</td>\n",
       "      <td>0.000000</td>\n",
       "    </tr>\n",
       "    <tr>\n",
       "      <th>137685</th>\n",
       "      <td>0.000000</td>\n",
       "      <td>0.000000</td>\n",
       "    </tr>\n",
       "    <tr>\n",
       "      <th>137710</th>\n",
       "      <td>0.000000</td>\n",
       "      <td>0.000000</td>\n",
       "    </tr>\n",
       "    <tr>\n",
       "      <th>137855</th>\n",
       "      <td>0.000000</td>\n",
       "      <td>0.000000</td>\n",
       "    </tr>\n",
       "    <tr>\n",
       "      <th>137890</th>\n",
       "      <td>0.000000</td>\n",
       "      <td>0.000000</td>\n",
       "    </tr>\n",
       "    <tr>\n",
       "      <th>137898</th>\n",
       "      <td>0.000000</td>\n",
       "      <td>0.000000</td>\n",
       "    </tr>\n",
       "    <tr>\n",
       "      <th>137976</th>\n",
       "      <td>0.000000</td>\n",
       "      <td>0.000000</td>\n",
       "    </tr>\n",
       "    <tr>\n",
       "      <th>138075</th>\n",
       "      <td>0.000000</td>\n",
       "      <td>0.000000</td>\n",
       "    </tr>\n",
       "    <tr>\n",
       "      <th>138098</th>\n",
       "      <td>0.000000</td>\n",
       "      <td>0.000000</td>\n",
       "    </tr>\n",
       "    <tr>\n",
       "      <th>138101</th>\n",
       "      <td>0.000000</td>\n",
       "      <td>0.000000</td>\n",
       "    </tr>\n",
       "    <tr>\n",
       "      <th>138190</th>\n",
       "      <td>0.000000</td>\n",
       "      <td>0.000000</td>\n",
       "    </tr>\n",
       "    <tr>\n",
       "      <th>138272</th>\n",
       "      <td>0.000000</td>\n",
       "      <td>0.000000</td>\n",
       "    </tr>\n",
       "    <tr>\n",
       "      <th>138616</th>\n",
       "      <td>0.000000</td>\n",
       "      <td>0.000000</td>\n",
       "    </tr>\n",
       "    <tr>\n",
       "      <th>138704</th>\n",
       "      <td>0.000000</td>\n",
       "      <td>0.000000</td>\n",
       "    </tr>\n",
       "    <tr>\n",
       "      <th>138773</th>\n",
       "      <td>0.000000</td>\n",
       "      <td>0.000000</td>\n",
       "    </tr>\n",
       "    <tr>\n",
       "      <th>139086</th>\n",
       "      <td>0.000000</td>\n",
       "      <td>0.000000</td>\n",
       "    </tr>\n",
       "    <tr>\n",
       "      <th>139112</th>\n",
       "      <td>0.000000</td>\n",
       "      <td>0.000000</td>\n",
       "    </tr>\n",
       "    <tr>\n",
       "      <th>139113</th>\n",
       "      <td>0.000000</td>\n",
       "      <td>0.000000</td>\n",
       "    </tr>\n",
       "    <tr>\n",
       "      <th>139396</th>\n",
       "      <td>0.000000</td>\n",
       "      <td>0.000000</td>\n",
       "    </tr>\n",
       "    <tr>\n",
       "      <th>139449</th>\n",
       "      <td>0.000000</td>\n",
       "      <td>0.000000</td>\n",
       "    </tr>\n",
       "    <tr>\n",
       "      <th>139515</th>\n",
       "      <td>0.000000</td>\n",
       "      <td>0.000000</td>\n",
       "    </tr>\n",
       "    <tr>\n",
       "      <th>140430</th>\n",
       "      <td>0.000000</td>\n",
       "      <td>0.000000</td>\n",
       "    </tr>\n",
       "    <tr>\n",
       "      <th>140445</th>\n",
       "      <td>0.000000</td>\n",
       "      <td>0.000000</td>\n",
       "    </tr>\n",
       "    <tr>\n",
       "      <th>140787</th>\n",
       "      <td>0.000000</td>\n",
       "      <td>0.000000</td>\n",
       "    </tr>\n",
       "  </tbody>\n",
       "</table>\n",
       "<p>27109 rows × 2 columns</p>\n",
       "</div>"
      ],
      "text/plain": [
       "         Conversion/Impression       CTR\n",
       "prop_id                                 \n",
       "88359                 0.475248  0.514851\n",
       "66456                 0.348416  0.380090\n",
       "86247                 0.343750  0.390625\n",
       "60275                 0.343284  0.373134\n",
       "29792                 0.330579  0.371901\n",
       "17669                 0.315436  0.422819\n",
       "8617                  0.309211  0.401316\n",
       "50355                 0.290816  0.331633\n",
       "10429                 0.284314  0.352941\n",
       "115285                0.280000  0.340000\n",
       "138287                0.280000  0.297143\n",
       "77759                 0.266667  0.296296\n",
       "92570                 0.266187  0.352518\n",
       "17270                 0.266055  0.284404\n",
       "8119                  0.262136  0.291262\n",
       "98803                 0.261725  0.366112\n",
       "79140                 0.255814  0.286822\n",
       "42117                 0.250000  0.285714\n",
       "23775                 0.247863  0.299145\n",
       "4548                  0.238994  0.267296\n",
       "95914                 0.237745  0.286765\n",
       "88253                 0.230769  0.264957\n",
       "86791                 0.228856  0.258706\n",
       "25517                 0.224265  0.246324\n",
       "32248                 0.220183  0.238532\n",
       "52496                 0.220000  0.230000\n",
       "28711                 0.219697  0.295455\n",
       "20977                 0.219081  0.243816\n",
       "60049                 0.214815  0.259259\n",
       "96101                 0.213974  0.244541\n",
       "...                        ...       ...\n",
       "136251                0.000000  0.000000\n",
       "136259                0.000000  0.000000\n",
       "136530                0.000000  0.000000\n",
       "136729                0.000000  0.000000\n",
       "136999                0.000000  0.000000\n",
       "137300                0.000000  0.000000\n",
       "137621                0.000000  0.000000\n",
       "137685                0.000000  0.000000\n",
       "137710                0.000000  0.000000\n",
       "137855                0.000000  0.000000\n",
       "137890                0.000000  0.000000\n",
       "137898                0.000000  0.000000\n",
       "137976                0.000000  0.000000\n",
       "138075                0.000000  0.000000\n",
       "138098                0.000000  0.000000\n",
       "138101                0.000000  0.000000\n",
       "138190                0.000000  0.000000\n",
       "138272                0.000000  0.000000\n",
       "138616                0.000000  0.000000\n",
       "138704                0.000000  0.000000\n",
       "138773                0.000000  0.000000\n",
       "139086                0.000000  0.000000\n",
       "139112                0.000000  0.000000\n",
       "139113                0.000000  0.000000\n",
       "139396                0.000000  0.000000\n",
       "139449                0.000000  0.000000\n",
       "139515                0.000000  0.000000\n",
       "140430                0.000000  0.000000\n",
       "140445                0.000000  0.000000\n",
       "140787                0.000000  0.000000\n",
       "\n",
       "[27109 rows x 2 columns]"
      ]
     },
     "execution_count": 177,
     "metadata": {},
     "output_type": "execute_result"
    }
   ],
   "source": [
    "metriccsDF.sort_values(['Conversion/Impression', 'CTR'], ascending = [False, False])"
   ]
  },
  {
   "cell_type": "markdown",
   "metadata": {},
   "source": [
    "### Clustering Approach"
   ]
  },
  {
   "cell_type": "code",
   "execution_count": 6,
   "metadata": {
    "collapsed": false
   },
   "outputs": [
    {
     "name": "stdout",
     "output_type": "stream",
     "text": [
      "Number of Records in this country: 47778\n"
     ]
    }
   ],
   "source": [
    "ctryID = 15\n",
    "clusterAttrs = ['prop_starrating', 'prop_review_score', 'prop_brand_bool', 'prop_location_score1', 'prop_historical_price', \n",
    "                'price_usd_pernight', 'promotion_flag']\n",
    "\n",
    "clusteringData = searchData.loc[searchData['prop_country_id'] == ctryID, clusterAttrs].dropna()\n",
    "clusteringDataScaled = preprocessing.scale(clusteringData.copy())\n",
    "\n",
    "print(\"Number of Records in this country:\", clusteringDataScaled.shape[0])"
   ]
  },
  {
   "cell_type": "code",
   "execution_count": 7,
   "metadata": {
    "collapsed": false
   },
   "outputs": [
    {
     "data": {
      "text/plain": [
       "AgglomerativeClustering(affinity='euclidean', compute_full_tree='auto',\n",
       "            connectivity=None, linkage='average',\n",
       "            memory=Memory(cachedir=None), n_clusters=50,\n",
       "            pooling_func=<function mean at 0x00000285637C18C8>)"
      ]
     },
     "execution_count": 7,
     "metadata": {},
     "output_type": "execute_result"
    }
   ],
   "source": [
    "clustering = AgglomerativeClustering(linkage= 'average', n_clusters = 50)\n",
    "clustering.fit(clusteringDataScaled)"
   ]
  },
  {
   "cell_type": "code",
   "execution_count": 60,
   "metadata": {
    "collapsed": false
   },
   "outputs": [
    {
     "data": {
      "text/html": [
       "<div>\n",
       "<table border=\"1\" class=\"dataframe\">\n",
       "  <thead>\n",
       "    <tr style=\"text-align: right;\">\n",
       "      <th></th>\n",
       "      <th>prop_starrating</th>\n",
       "      <th>prop_review_score</th>\n",
       "      <th>prop_brand_bool</th>\n",
       "      <th>prop_location_score1</th>\n",
       "      <th>prop_historical_price</th>\n",
       "      <th>price_usd_pernight</th>\n",
       "      <th>promotion_flag</th>\n",
       "    </tr>\n",
       "  </thead>\n",
       "  <tbody>\n",
       "    <tr>\n",
       "      <th>334</th>\n",
       "      <td>4</td>\n",
       "      <td>4.5</td>\n",
       "      <td>1</td>\n",
       "      <td>2.89</td>\n",
       "      <td>170.715768</td>\n",
       "      <td>114.120000</td>\n",
       "      <td>1</td>\n",
       "    </tr>\n",
       "    <tr>\n",
       "      <th>1000</th>\n",
       "      <td>5</td>\n",
       "      <td>3.5</td>\n",
       "      <td>0</td>\n",
       "      <td>3.26</td>\n",
       "      <td>174.164456</td>\n",
       "      <td>250.000000</td>\n",
       "      <td>1</td>\n",
       "    </tr>\n",
       "    <tr>\n",
       "      <th>1007</th>\n",
       "      <td>4</td>\n",
       "      <td>4.5</td>\n",
       "      <td>1</td>\n",
       "      <td>2.71</td>\n",
       "      <td>144.026887</td>\n",
       "      <td>98.000000</td>\n",
       "      <td>1</td>\n",
       "    </tr>\n",
       "    <tr>\n",
       "      <th>1009</th>\n",
       "      <td>4</td>\n",
       "      <td>4.5</td>\n",
       "      <td>1</td>\n",
       "      <td>2.89</td>\n",
       "      <td>151.411304</td>\n",
       "      <td>123.000000</td>\n",
       "      <td>1</td>\n",
       "    </tr>\n",
       "    <tr>\n",
       "      <th>1019</th>\n",
       "      <td>5</td>\n",
       "      <td>4.0</td>\n",
       "      <td>1</td>\n",
       "      <td>4.64</td>\n",
       "      <td>304.904923</td>\n",
       "      <td>316.000000</td>\n",
       "      <td>1</td>\n",
       "    </tr>\n",
       "    <tr>\n",
       "      <th>8892</th>\n",
       "      <td>4</td>\n",
       "      <td>4.0</td>\n",
       "      <td>1</td>\n",
       "      <td>3.78</td>\n",
       "      <td>120.301369</td>\n",
       "      <td>74.000000</td>\n",
       "      <td>1</td>\n",
       "    </tr>\n",
       "    <tr>\n",
       "      <th>8902</th>\n",
       "      <td>4</td>\n",
       "      <td>3.5</td>\n",
       "      <td>0</td>\n",
       "      <td>3.22</td>\n",
       "      <td>202.350228</td>\n",
       "      <td>67.000000</td>\n",
       "      <td>1</td>\n",
       "    </tr>\n",
       "    <tr>\n",
       "      <th>9186</th>\n",
       "      <td>4</td>\n",
       "      <td>3.5</td>\n",
       "      <td>0</td>\n",
       "      <td>3.78</td>\n",
       "      <td>186.792804</td>\n",
       "      <td>32.673333</td>\n",
       "      <td>1</td>\n",
       "    </tr>\n",
       "    <tr>\n",
       "      <th>19886</th>\n",
       "      <td>4</td>\n",
       "      <td>4.5</td>\n",
       "      <td>1</td>\n",
       "      <td>3.04</td>\n",
       "      <td>317.348329</td>\n",
       "      <td>174.666667</td>\n",
       "      <td>1</td>\n",
       "    </tr>\n",
       "    <tr>\n",
       "      <th>19892</th>\n",
       "      <td>4</td>\n",
       "      <td>4.5</td>\n",
       "      <td>1</td>\n",
       "      <td>4.62</td>\n",
       "      <td>219.203386</td>\n",
       "      <td>117.000000</td>\n",
       "      <td>1</td>\n",
       "    </tr>\n",
       "    <tr>\n",
       "      <th>28115</th>\n",
       "      <td>4</td>\n",
       "      <td>3.5</td>\n",
       "      <td>0</td>\n",
       "      <td>2.89</td>\n",
       "      <td>200.336810</td>\n",
       "      <td>97.500000</td>\n",
       "      <td>1</td>\n",
       "    </tr>\n",
       "    <tr>\n",
       "      <th>28118</th>\n",
       "      <td>4</td>\n",
       "      <td>4.5</td>\n",
       "      <td>1</td>\n",
       "      <td>3.04</td>\n",
       "      <td>252.143911</td>\n",
       "      <td>95.500000</td>\n",
       "      <td>1</td>\n",
       "    </tr>\n",
       "    <tr>\n",
       "      <th>28119</th>\n",
       "      <td>4</td>\n",
       "      <td>4.5</td>\n",
       "      <td>1</td>\n",
       "      <td>3.09</td>\n",
       "      <td>188.670102</td>\n",
       "      <td>194.000000</td>\n",
       "      <td>1</td>\n",
       "    </tr>\n",
       "    <tr>\n",
       "      <th>28124</th>\n",
       "      <td>4</td>\n",
       "      <td>4.5</td>\n",
       "      <td>1</td>\n",
       "      <td>2.71</td>\n",
       "      <td>142.593796</td>\n",
       "      <td>64.000000</td>\n",
       "      <td>1</td>\n",
       "    </tr>\n",
       "    <tr>\n",
       "      <th>34995</th>\n",
       "      <td>4</td>\n",
       "      <td>4.5</td>\n",
       "      <td>1</td>\n",
       "      <td>4.45</td>\n",
       "      <td>174.164456</td>\n",
       "      <td>57.500000</td>\n",
       "      <td>1</td>\n",
       "    </tr>\n",
       "    <tr>\n",
       "      <th>34998</th>\n",
       "      <td>4</td>\n",
       "      <td>4.5</td>\n",
       "      <td>0</td>\n",
       "      <td>4.50</td>\n",
       "      <td>198.343425</td>\n",
       "      <td>61.000000</td>\n",
       "      <td>1</td>\n",
       "    </tr>\n",
       "    <tr>\n",
       "      <th>35942</th>\n",
       "      <td>5</td>\n",
       "      <td>4.5</td>\n",
       "      <td>1</td>\n",
       "      <td>3.50</td>\n",
       "      <td>383.753339</td>\n",
       "      <td>81.650000</td>\n",
       "      <td>1</td>\n",
       "    </tr>\n",
       "    <tr>\n",
       "      <th>35951</th>\n",
       "      <td>4</td>\n",
       "      <td>4.5</td>\n",
       "      <td>1</td>\n",
       "      <td>3.50</td>\n",
       "      <td>407.483320</td>\n",
       "      <td>54.255000</td>\n",
       "      <td>1</td>\n",
       "    </tr>\n",
       "    <tr>\n",
       "      <th>35958</th>\n",
       "      <td>5</td>\n",
       "      <td>4.0</td>\n",
       "      <td>1</td>\n",
       "      <td>3.22</td>\n",
       "      <td>290.034534</td>\n",
       "      <td>65.320000</td>\n",
       "      <td>1</td>\n",
       "    </tr>\n",
       "    <tr>\n",
       "      <th>61058</th>\n",
       "      <td>5</td>\n",
       "      <td>4.0</td>\n",
       "      <td>0</td>\n",
       "      <td>3.18</td>\n",
       "      <td>270.426407</td>\n",
       "      <td>56.500000</td>\n",
       "      <td>1</td>\n",
       "    </tr>\n",
       "    <tr>\n",
       "      <th>61059</th>\n",
       "      <td>4</td>\n",
       "      <td>4.5</td>\n",
       "      <td>1</td>\n",
       "      <td>3.04</td>\n",
       "      <td>323.759190</td>\n",
       "      <td>92.500000</td>\n",
       "      <td>1</td>\n",
       "    </tr>\n",
       "    <tr>\n",
       "      <th>61071</th>\n",
       "      <td>5</td>\n",
       "      <td>4.5</td>\n",
       "      <td>1</td>\n",
       "      <td>3.47</td>\n",
       "      <td>336.972054</td>\n",
       "      <td>92.500000</td>\n",
       "      <td>1</td>\n",
       "    </tr>\n",
       "    <tr>\n",
       "      <th>61075</th>\n",
       "      <td>5</td>\n",
       "      <td>4.0</td>\n",
       "      <td>1</td>\n",
       "      <td>3.22</td>\n",
       "      <td>304.904923</td>\n",
       "      <td>65.500000</td>\n",
       "      <td>1</td>\n",
       "    </tr>\n",
       "    <tr>\n",
       "      <th>64200</th>\n",
       "      <td>5</td>\n",
       "      <td>4.5</td>\n",
       "      <td>1</td>\n",
       "      <td>3.47</td>\n",
       "      <td>336.972054</td>\n",
       "      <td>174.320000</td>\n",
       "      <td>1</td>\n",
       "    </tr>\n",
       "    <tr>\n",
       "      <th>68848</th>\n",
       "      <td>4</td>\n",
       "      <td>4.5</td>\n",
       "      <td>1</td>\n",
       "      <td>3.14</td>\n",
       "      <td>278.662118</td>\n",
       "      <td>16.108333</td>\n",
       "      <td>1</td>\n",
       "    </tr>\n",
       "    <tr>\n",
       "      <th>68856</th>\n",
       "      <td>5</td>\n",
       "      <td>4.0</td>\n",
       "      <td>1</td>\n",
       "      <td>3.22</td>\n",
       "      <td>290.034534</td>\n",
       "      <td>22.061667</td>\n",
       "      <td>1</td>\n",
       "    </tr>\n",
       "    <tr>\n",
       "      <th>70489</th>\n",
       "      <td>4</td>\n",
       "      <td>4.5</td>\n",
       "      <td>1</td>\n",
       "      <td>3.04</td>\n",
       "      <td>327.013024</td>\n",
       "      <td>71.325714</td>\n",
       "      <td>1</td>\n",
       "    </tr>\n",
       "    <tr>\n",
       "      <th>70494</th>\n",
       "      <td>5</td>\n",
       "      <td>4.0</td>\n",
       "      <td>0</td>\n",
       "      <td>3.50</td>\n",
       "      <td>407.483320</td>\n",
       "      <td>34.168571</td>\n",
       "      <td>1</td>\n",
       "    </tr>\n",
       "    <tr>\n",
       "      <th>70499</th>\n",
       "      <td>5</td>\n",
       "      <td>4.0</td>\n",
       "      <td>1</td>\n",
       "      <td>3.43</td>\n",
       "      <td>419.893035</td>\n",
       "      <td>46.678571</td>\n",
       "      <td>1</td>\n",
       "    </tr>\n",
       "    <tr>\n",
       "      <th>79770</th>\n",
       "      <td>5</td>\n",
       "      <td>4.0</td>\n",
       "      <td>0</td>\n",
       "      <td>3.18</td>\n",
       "      <td>1.000000</td>\n",
       "      <td>282.030000</td>\n",
       "      <td>1</td>\n",
       "    </tr>\n",
       "    <tr>\n",
       "      <th>...</th>\n",
       "      <td>...</td>\n",
       "      <td>...</td>\n",
       "      <td>...</td>\n",
       "      <td>...</td>\n",
       "      <td>...</td>\n",
       "      <td>...</td>\n",
       "      <td>...</td>\n",
       "    </tr>\n",
       "    <tr>\n",
       "      <th>9849243</th>\n",
       "      <td>5</td>\n",
       "      <td>4.0</td>\n",
       "      <td>1</td>\n",
       "      <td>4.64</td>\n",
       "      <td>304.904923</td>\n",
       "      <td>23.390769</td>\n",
       "      <td>1</td>\n",
       "    </tr>\n",
       "    <tr>\n",
       "      <th>9856185</th>\n",
       "      <td>5</td>\n",
       "      <td>3.5</td>\n",
       "      <td>0</td>\n",
       "      <td>3.26</td>\n",
       "      <td>186.792804</td>\n",
       "      <td>39.478750</td>\n",
       "      <td>1</td>\n",
       "    </tr>\n",
       "    <tr>\n",
       "      <th>9858291</th>\n",
       "      <td>4</td>\n",
       "      <td>4.0</td>\n",
       "      <td>1</td>\n",
       "      <td>4.11</td>\n",
       "      <td>170.715768</td>\n",
       "      <td>26.123333</td>\n",
       "      <td>1</td>\n",
       "    </tr>\n",
       "    <tr>\n",
       "      <th>9859916</th>\n",
       "      <td>4</td>\n",
       "      <td>4.5</td>\n",
       "      <td>1</td>\n",
       "      <td>3.50</td>\n",
       "      <td>415.715029</td>\n",
       "      <td>246.640000</td>\n",
       "      <td>1</td>\n",
       "    </tr>\n",
       "    <tr>\n",
       "      <th>9871662</th>\n",
       "      <td>5</td>\n",
       "      <td>4.5</td>\n",
       "      <td>1</td>\n",
       "      <td>3.78</td>\n",
       "      <td>473.428075</td>\n",
       "      <td>138.666667</td>\n",
       "      <td>1</td>\n",
       "    </tr>\n",
       "    <tr>\n",
       "      <th>9876248</th>\n",
       "      <td>4</td>\n",
       "      <td>4.0</td>\n",
       "      <td>0</td>\n",
       "      <td>4.04</td>\n",
       "      <td>177.682811</td>\n",
       "      <td>58.365000</td>\n",
       "      <td>1</td>\n",
       "    </tr>\n",
       "    <tr>\n",
       "      <th>9876250</th>\n",
       "      <td>5</td>\n",
       "      <td>3.5</td>\n",
       "      <td>0</td>\n",
       "      <td>3.26</td>\n",
       "      <td>177.682811</td>\n",
       "      <td>204.490000</td>\n",
       "      <td>1</td>\n",
       "    </tr>\n",
       "    <tr>\n",
       "      <th>9890277</th>\n",
       "      <td>4</td>\n",
       "      <td>5.0</td>\n",
       "      <td>1</td>\n",
       "      <td>3.50</td>\n",
       "      <td>145.474382</td>\n",
       "      <td>49.000000</td>\n",
       "      <td>1</td>\n",
       "    </tr>\n",
       "    <tr>\n",
       "      <th>9890291</th>\n",
       "      <td>4</td>\n",
       "      <td>5.0</td>\n",
       "      <td>0</td>\n",
       "      <td>3.50</td>\n",
       "      <td>130.320917</td>\n",
       "      <td>57.500000</td>\n",
       "      <td>1</td>\n",
       "    </tr>\n",
       "    <tr>\n",
       "      <th>9890294</th>\n",
       "      <td>4</td>\n",
       "      <td>4.5</td>\n",
       "      <td>1</td>\n",
       "      <td>3.78</td>\n",
       "      <td>138.379512</td>\n",
       "      <td>35.500000</td>\n",
       "      <td>1</td>\n",
       "    </tr>\n",
       "    <tr>\n",
       "      <th>9893833</th>\n",
       "      <td>5</td>\n",
       "      <td>4.5</td>\n",
       "      <td>1</td>\n",
       "      <td>3.18</td>\n",
       "      <td>1.000000</td>\n",
       "      <td>62.443333</td>\n",
       "      <td>1</td>\n",
       "    </tr>\n",
       "    <tr>\n",
       "      <th>9893835</th>\n",
       "      <td>4</td>\n",
       "      <td>3.5</td>\n",
       "      <td>0</td>\n",
       "      <td>2.89</td>\n",
       "      <td>1.000000</td>\n",
       "      <td>53.003333</td>\n",
       "      <td>1</td>\n",
       "    </tr>\n",
       "    <tr>\n",
       "      <th>9893840</th>\n",
       "      <td>4</td>\n",
       "      <td>4.5</td>\n",
       "      <td>1</td>\n",
       "      <td>3.09</td>\n",
       "      <td>1.000000</td>\n",
       "      <td>48.433333</td>\n",
       "      <td>1</td>\n",
       "    </tr>\n",
       "    <tr>\n",
       "      <th>9893844</th>\n",
       "      <td>4</td>\n",
       "      <td>4.5</td>\n",
       "      <td>1</td>\n",
       "      <td>2.56</td>\n",
       "      <td>1.000000</td>\n",
       "      <td>38.990000</td>\n",
       "      <td>1</td>\n",
       "    </tr>\n",
       "    <tr>\n",
       "      <th>9893845</th>\n",
       "      <td>4</td>\n",
       "      <td>4.5</td>\n",
       "      <td>1</td>\n",
       "      <td>2.71</td>\n",
       "      <td>1.000000</td>\n",
       "      <td>36.250000</td>\n",
       "      <td>1</td>\n",
       "    </tr>\n",
       "    <tr>\n",
       "      <th>9893847</th>\n",
       "      <td>5</td>\n",
       "      <td>4.0</td>\n",
       "      <td>0</td>\n",
       "      <td>2.83</td>\n",
       "      <td>1.000000</td>\n",
       "      <td>220.536667</td>\n",
       "      <td>1</td>\n",
       "    </tr>\n",
       "    <tr>\n",
       "      <th>9893848</th>\n",
       "      <td>4</td>\n",
       "      <td>4.5</td>\n",
       "      <td>0</td>\n",
       "      <td>2.56</td>\n",
       "      <td>1.000000</td>\n",
       "      <td>59.093333</td>\n",
       "      <td>1</td>\n",
       "    </tr>\n",
       "    <tr>\n",
       "      <th>9893850</th>\n",
       "      <td>5</td>\n",
       "      <td>4.0</td>\n",
       "      <td>1</td>\n",
       "      <td>3.22</td>\n",
       "      <td>1.000000</td>\n",
       "      <td>50.260000</td>\n",
       "      <td>1</td>\n",
       "    </tr>\n",
       "    <tr>\n",
       "      <th>9896561</th>\n",
       "      <td>4</td>\n",
       "      <td>4.5</td>\n",
       "      <td>1</td>\n",
       "      <td>3.04</td>\n",
       "      <td>320.537733</td>\n",
       "      <td>64.333333</td>\n",
       "      <td>1</td>\n",
       "    </tr>\n",
       "    <tr>\n",
       "      <th>9896562</th>\n",
       "      <td>5</td>\n",
       "      <td>3.5</td>\n",
       "      <td>0</td>\n",
       "      <td>3.26</td>\n",
       "      <td>186.792804</td>\n",
       "      <td>36.000000</td>\n",
       "      <td>1</td>\n",
       "    </tr>\n",
       "    <tr>\n",
       "      <th>9896563</th>\n",
       "      <td>5</td>\n",
       "      <td>4.5</td>\n",
       "      <td>1</td>\n",
       "      <td>3.18</td>\n",
       "      <td>497.701251</td>\n",
       "      <td>32.500000</td>\n",
       "      <td>1</td>\n",
       "    </tr>\n",
       "    <tr>\n",
       "      <th>9896565</th>\n",
       "      <td>5</td>\n",
       "      <td>4.5</td>\n",
       "      <td>1</td>\n",
       "      <td>3.50</td>\n",
       "      <td>399.414610</td>\n",
       "      <td>35.500000</td>\n",
       "      <td>1</td>\n",
       "    </tr>\n",
       "    <tr>\n",
       "      <th>9896569</th>\n",
       "      <td>4</td>\n",
       "      <td>4.5</td>\n",
       "      <td>0</td>\n",
       "      <td>3.43</td>\n",
       "      <td>450.338715</td>\n",
       "      <td>42.500000</td>\n",
       "      <td>1</td>\n",
       "    </tr>\n",
       "    <tr>\n",
       "      <th>9896573</th>\n",
       "      <td>4</td>\n",
       "      <td>4.5</td>\n",
       "      <td>1</td>\n",
       "      <td>3.50</td>\n",
       "      <td>428.375437</td>\n",
       "      <td>37.333333</td>\n",
       "      <td>1</td>\n",
       "    </tr>\n",
       "    <tr>\n",
       "      <th>9896576</th>\n",
       "      <td>5</td>\n",
       "      <td>4.5</td>\n",
       "      <td>1</td>\n",
       "      <td>3.26</td>\n",
       "      <td>497.701251</td>\n",
       "      <td>29.333333</td>\n",
       "      <td>1</td>\n",
       "    </tr>\n",
       "    <tr>\n",
       "      <th>9905515</th>\n",
       "      <td>4</td>\n",
       "      <td>4.5</td>\n",
       "      <td>0</td>\n",
       "      <td>4.50</td>\n",
       "      <td>177.682811</td>\n",
       "      <td>122.440000</td>\n",
       "      <td>1</td>\n",
       "    </tr>\n",
       "    <tr>\n",
       "      <th>9905519</th>\n",
       "      <td>4</td>\n",
       "      <td>3.5</td>\n",
       "      <td>0</td>\n",
       "      <td>3.40</td>\n",
       "      <td>174.164456</td>\n",
       "      <td>103.370000</td>\n",
       "      <td>1</td>\n",
       "    </tr>\n",
       "    <tr>\n",
       "      <th>9905521</th>\n",
       "      <td>4</td>\n",
       "      <td>3.5</td>\n",
       "      <td>0</td>\n",
       "      <td>3.22</td>\n",
       "      <td>135.639414</td>\n",
       "      <td>92.330000</td>\n",
       "      <td>1</td>\n",
       "    </tr>\n",
       "    <tr>\n",
       "      <th>9905529</th>\n",
       "      <td>4</td>\n",
       "      <td>4.5</td>\n",
       "      <td>1</td>\n",
       "      <td>2.56</td>\n",
       "      <td>225.879123</td>\n",
       "      <td>115.420000</td>\n",
       "      <td>1</td>\n",
       "    </tr>\n",
       "    <tr>\n",
       "      <th>9905531</th>\n",
       "      <td>4</td>\n",
       "      <td>4.5</td>\n",
       "      <td>1</td>\n",
       "      <td>2.71</td>\n",
       "      <td>141.174964</td>\n",
       "      <td>128.460000</td>\n",
       "      <td>1</td>\n",
       "    </tr>\n",
       "  </tbody>\n",
       "</table>\n",
       "<p>5661 rows × 7 columns</p>\n",
       "</div>"
      ],
      "text/plain": [
       "         prop_starrating  prop_review_score  prop_brand_bool  \\\n",
       "334                    4                4.5                1   \n",
       "1000                   5                3.5                0   \n",
       "1007                   4                4.5                1   \n",
       "1009                   4                4.5                1   \n",
       "1019                   5                4.0                1   \n",
       "8892                   4                4.0                1   \n",
       "8902                   4                3.5                0   \n",
       "9186                   4                3.5                0   \n",
       "19886                  4                4.5                1   \n",
       "19892                  4                4.5                1   \n",
       "28115                  4                3.5                0   \n",
       "28118                  4                4.5                1   \n",
       "28119                  4                4.5                1   \n",
       "28124                  4                4.5                1   \n",
       "34995                  4                4.5                1   \n",
       "34998                  4                4.5                0   \n",
       "35942                  5                4.5                1   \n",
       "35951                  4                4.5                1   \n",
       "35958                  5                4.0                1   \n",
       "61058                  5                4.0                0   \n",
       "61059                  4                4.5                1   \n",
       "61071                  5                4.5                1   \n",
       "61075                  5                4.0                1   \n",
       "64200                  5                4.5                1   \n",
       "68848                  4                4.5                1   \n",
       "68856                  5                4.0                1   \n",
       "70489                  4                4.5                1   \n",
       "70494                  5                4.0                0   \n",
       "70499                  5                4.0                1   \n",
       "79770                  5                4.0                0   \n",
       "...                  ...                ...              ...   \n",
       "9849243                5                4.0                1   \n",
       "9856185                5                3.5                0   \n",
       "9858291                4                4.0                1   \n",
       "9859916                4                4.5                1   \n",
       "9871662                5                4.5                1   \n",
       "9876248                4                4.0                0   \n",
       "9876250                5                3.5                0   \n",
       "9890277                4                5.0                1   \n",
       "9890291                4                5.0                0   \n",
       "9890294                4                4.5                1   \n",
       "9893833                5                4.5                1   \n",
       "9893835                4                3.5                0   \n",
       "9893840                4                4.5                1   \n",
       "9893844                4                4.5                1   \n",
       "9893845                4                4.5                1   \n",
       "9893847                5                4.0                0   \n",
       "9893848                4                4.5                0   \n",
       "9893850                5                4.0                1   \n",
       "9896561                4                4.5                1   \n",
       "9896562                5                3.5                0   \n",
       "9896563                5                4.5                1   \n",
       "9896565                5                4.5                1   \n",
       "9896569                4                4.5                0   \n",
       "9896573                4                4.5                1   \n",
       "9896576                5                4.5                1   \n",
       "9905515                4                4.5                0   \n",
       "9905519                4                3.5                0   \n",
       "9905521                4                3.5                0   \n",
       "9905529                4                4.5                1   \n",
       "9905531                4                4.5                1   \n",
       "\n",
       "         prop_location_score1  prop_historical_price  price_usd_pernight  \\\n",
       "334                      2.89             170.715768          114.120000   \n",
       "1000                     3.26             174.164456          250.000000   \n",
       "1007                     2.71             144.026887           98.000000   \n",
       "1009                     2.89             151.411304          123.000000   \n",
       "1019                     4.64             304.904923          316.000000   \n",
       "8892                     3.78             120.301369           74.000000   \n",
       "8902                     3.22             202.350228           67.000000   \n",
       "9186                     3.78             186.792804           32.673333   \n",
       "19886                    3.04             317.348329          174.666667   \n",
       "19892                    4.62             219.203386          117.000000   \n",
       "28115                    2.89             200.336810           97.500000   \n",
       "28118                    3.04             252.143911           95.500000   \n",
       "28119                    3.09             188.670102          194.000000   \n",
       "28124                    2.71             142.593796           64.000000   \n",
       "34995                    4.45             174.164456           57.500000   \n",
       "34998                    4.50             198.343425           61.000000   \n",
       "35942                    3.50             383.753339           81.650000   \n",
       "35951                    3.50             407.483320           54.255000   \n",
       "35958                    3.22             290.034534           65.320000   \n",
       "61058                    3.18             270.426407           56.500000   \n",
       "61059                    3.04             323.759190           92.500000   \n",
       "61071                    3.47             336.972054           92.500000   \n",
       "61075                    3.22             304.904923           65.500000   \n",
       "64200                    3.47             336.972054          174.320000   \n",
       "68848                    3.14             278.662118           16.108333   \n",
       "68856                    3.22             290.034534           22.061667   \n",
       "70489                    3.04             327.013024           71.325714   \n",
       "70494                    3.50             407.483320           34.168571   \n",
       "70499                    3.43             419.893035           46.678571   \n",
       "79770                    3.18               1.000000          282.030000   \n",
       "...                       ...                    ...                 ...   \n",
       "9849243                  4.64             304.904923           23.390769   \n",
       "9856185                  3.26             186.792804           39.478750   \n",
       "9858291                  4.11             170.715768           26.123333   \n",
       "9859916                  3.50             415.715029          246.640000   \n",
       "9871662                  3.78             473.428075          138.666667   \n",
       "9876248                  4.04             177.682811           58.365000   \n",
       "9876250                  3.26             177.682811          204.490000   \n",
       "9890277                  3.50             145.474382           49.000000   \n",
       "9890291                  3.50             130.320917           57.500000   \n",
       "9890294                  3.78             138.379512           35.500000   \n",
       "9893833                  3.18               1.000000           62.443333   \n",
       "9893835                  2.89               1.000000           53.003333   \n",
       "9893840                  3.09               1.000000           48.433333   \n",
       "9893844                  2.56               1.000000           38.990000   \n",
       "9893845                  2.71               1.000000           36.250000   \n",
       "9893847                  2.83               1.000000          220.536667   \n",
       "9893848                  2.56               1.000000           59.093333   \n",
       "9893850                  3.22               1.000000           50.260000   \n",
       "9896561                  3.04             320.537733           64.333333   \n",
       "9896562                  3.26             186.792804           36.000000   \n",
       "9896563                  3.18             497.701251           32.500000   \n",
       "9896565                  3.50             399.414610           35.500000   \n",
       "9896569                  3.43             450.338715           42.500000   \n",
       "9896573                  3.50             428.375437           37.333333   \n",
       "9896576                  3.26             497.701251           29.333333   \n",
       "9905515                  4.50             177.682811          122.440000   \n",
       "9905519                  3.40             174.164456          103.370000   \n",
       "9905521                  3.22             135.639414           92.330000   \n",
       "9905529                  2.56             225.879123          115.420000   \n",
       "9905531                  2.71             141.174964          128.460000   \n",
       "\n",
       "         promotion_flag  \n",
       "334                   1  \n",
       "1000                  1  \n",
       "1007                  1  \n",
       "1009                  1  \n",
       "1019                  1  \n",
       "8892                  1  \n",
       "8902                  1  \n",
       "9186                  1  \n",
       "19886                 1  \n",
       "19892                 1  \n",
       "28115                 1  \n",
       "28118                 1  \n",
       "28119                 1  \n",
       "28124                 1  \n",
       "34995                 1  \n",
       "34998                 1  \n",
       "35942                 1  \n",
       "35951                 1  \n",
       "35958                 1  \n",
       "61058                 1  \n",
       "61059                 1  \n",
       "61071                 1  \n",
       "61075                 1  \n",
       "64200                 1  \n",
       "68848                 1  \n",
       "68856                 1  \n",
       "70489                 1  \n",
       "70494                 1  \n",
       "70499                 1  \n",
       "79770                 1  \n",
       "...                 ...  \n",
       "9849243               1  \n",
       "9856185               1  \n",
       "9858291               1  \n",
       "9859916               1  \n",
       "9871662               1  \n",
       "9876248               1  \n",
       "9876250               1  \n",
       "9890277               1  \n",
       "9890291               1  \n",
       "9890294               1  \n",
       "9893833               1  \n",
       "9893835               1  \n",
       "9893840               1  \n",
       "9893844               1  \n",
       "9893845               1  \n",
       "9893847               1  \n",
       "9893848               1  \n",
       "9893850               1  \n",
       "9896561               1  \n",
       "9896562               1  \n",
       "9896563               1  \n",
       "9896565               1  \n",
       "9896569               1  \n",
       "9896573               1  \n",
       "9896576               1  \n",
       "9905515               1  \n",
       "9905519               1  \n",
       "9905521               1  \n",
       "9905529               1  \n",
       "9905531               1  \n",
       "\n",
       "[5661 rows x 7 columns]"
      ]
     },
     "execution_count": 60,
     "metadata": {},
     "output_type": "execute_result"
    }
   ],
   "source": [
    "clusterIdx = np.where(clustering.labels_ == 0)\n",
    "clusteringData.iloc[clusterIdx]"
   ]
  },
  {
   "cell_type": "code",
   "execution_count": 61,
   "metadata": {
    "collapsed": false
   },
   "outputs": [
    {
     "data": {
      "image/png": "[encoded data removed]",
      "text/plain": [
       "<matplotlib.figure.Figure at 0x28568ac85f8>"
      ]
     },
     "metadata": {},
     "output_type": "display_data"
    }
   ],
   "source": [
    "# Boxplot of Hotel Star Rating\n",
    "plt.boxplot(clusteringData.iloc[clusterIdx]['prop_starrating'].as_matrix())\n",
    "plt.yticks(np.arange(0, 6, 1))\n",
    "plt.tick_params(axis = 'x', bottom = 'off', labelbottom = 'off')\n",
    "plt.ylabel(\"Hotel Star Rating\")\n",
    "plt.title(\"Boxplot - Distribution of Star Rating in a cluster\")\n",
    "plt.show()\n",
    "plt.close()"
   ]
  },
  {
   "cell_type": "code",
   "execution_count": 62,
   "metadata": {
    "collapsed": false
   },
   "outputs": [
    {
     "data": {
      "image/png": "[encoded data removed]",
      "text/plain": [
       "<matplotlib.figure.Figure at 0x28568aa7b38>"
      ]
     },
     "metadata": {},
     "output_type": "display_data"
    }
   ],
   "source": [
    "# Boxplot of Hotel Review Score\n",
    "plt.boxplot(clusteringData.iloc[clusterIdx]['prop_review_score'].as_matrix())\n",
    "plt.yticks(np.arange(0, 6, 1))\n",
    "plt.tick_params(axis = 'x', bottom = 'off', labelbottom = 'off')\n",
    "plt.ylabel(\"Hotel Review Score\")\n",
    "plt.title(\"Boxplot - Distribution of Review Score in a cluster\")\n",
    "plt.show()\n",
    "plt.close()"
   ]
  },
  {
   "cell_type": "code",
   "execution_count": 63,
   "metadata": {
    "collapsed": false
   },
   "outputs": [
    {
     "data": {
      "image/png": "[encoded data removed]",
      "text/plain": [
       "<matplotlib.figure.Figure at 0x28567fc80f0>"
      ]
     },
     "metadata": {},
     "output_type": "display_data"
    }
   ],
   "source": [
    "# Boxplot of Hotel Location Score1\n",
    "plt.boxplot(clusteringData.iloc[clusterIdx]['prop_location_score1'].as_matrix())\n",
    "plt.yticks(np.arange(0, 6, 1))\n",
    "plt.tick_params(axis = 'x', bottom = 'off', labelbottom = 'off')\n",
    "plt.ylabel(\"Hotel Location Score1\")\n",
    "plt.title(\"Boxplot - Distribution of Location Score1 in a cluster\")\n",
    "plt.show()\n",
    "plt.close()\n"
   ]
  },
  {
   "cell_type": "code",
   "execution_count": 64,
   "metadata": {
    "collapsed": false
   },
   "outputs": [
    {
     "data": {
      "image/png": "[encoded data removed]",
      "text/plain": [
       "<matplotlib.figure.Figure at 0x28598aa8320>"
      ]
     },
     "metadata": {},
     "output_type": "display_data"
    }
   ],
   "source": [
    "# Boxplot of Hotel Historical Price\n",
    "plt.boxplot(clusteringData.iloc[clusterIdx]['prop_historical_price'].as_matrix())\n",
    "plt.tick_params(axis = 'x', bottom = 'off', labelbottom = 'off')\n",
    "plt.ylabel(\"Hotel Historical Price\")\n",
    "plt.title(\"Boxplot - Distribution of Hotel Historical Price in a cluster\")\n",
    "plt.show()\n",
    "plt.close()"
   ]
  },
  {
   "cell_type": "code",
   "execution_count": 65,
   "metadata": {
    "collapsed": false
   },
   "outputs": [
    {
     "data": {
      "image/png": "[encoded data removed]",
      "text/plain": [
       "<matplotlib.figure.Figure at 0x28568aa76d8>"
      ]
     },
     "metadata": {},
     "output_type": "display_data"
    }
   ],
   "source": [
    "# Boxplot of Hotel Historical Price\n",
    "plt.boxplot(clusteringData.iloc[clusterIdx]['price_usd_pernight'].as_matrix())\n",
    "plt.tick_params(axis = 'x', bottom = 'off', labelbottom = 'off')\n",
    "#plt.yticks(np.arange(0, 1201, 100))\n",
    "plt.ylabel(\"Hotel Price Per Night\")\n",
    "plt.title(\"Boxplot - Distribution of Hotel Price Per Night in a cluster\")\n",
    "plt.show()\n",
    "plt.close()"
   ]
  },
  {
   "cell_type": "markdown",
   "metadata": {},
   "source": [
    "### Part 2b: Effects of Relative Price on Probability of Sale"
   ]
  },
  {
   "cell_type": "code",
   "execution_count": 3,
   "metadata": {
    "collapsed": true
   },
   "outputs": [],
   "source": [
    "regressionData = searchData\n",
    "\n",
    "# Construct (Price / Ave Price) Ratio\n",
    "regressionDataMeanPrice = regressionData.groupby(['srch_id'])['price_usd'].mean()\n",
    "regressionDataMeanPrice.name = 'price_usd_average'\n",
    "\n",
    "# Construct (StarRating - Ave StarRating)\n",
    "regressionDataStarRating = regressionData.groupby(['srch_id'])['prop_starrating'].mean()\n",
    "regressionDataStarRating.name = 'prop_starrating_average'\n",
    "\n",
    "# Construct (ReviewScore - Ave ReviewScore)\n",
    "regressionDataReviewScore = regressionData.groupby(['srch_id'])['prop_review_score'].mean()\n",
    "regressionDataReviewScore.name = 'prop_review_score_average'\n",
    "\n",
    "# Construct (LocationScore1 - Ave LocationScore1)\n",
    "regressionDataLocScore1 = regressionData.groupby(['srch_id'])['prop_location_score1'].mean()\n",
    "regressionDataLocScore1.name = 'prop_location_score1_average'\n",
    "\n",
    "# Construct (Historical Price / Ave Historical Price)\n",
    "regressionDataHistPrice = regressionData.groupby(['srch_id'])['prop_historical_price'].mean()\n",
    "regressionDataHistPrice.name = 'prop_historical_price_average'\n"
   ]
  },
  {
   "cell_type": "code",
   "execution_count": 4,
   "metadata": {
    "collapsed": false
   },
   "outputs": [],
   "source": [
    "# New Regressor: (Price / Ave Price) Ratio\n",
    "regressionData = regressionData.merge(pd.DataFrame({regressionDataMeanPrice.index.name: regressionDataMeanPrice.index, \n",
    "                                                    regressionDataMeanPrice.name: regressionDataMeanPrice.values}), \n",
    "                                      how = 'left', on = 'srch_id')\n",
    "regressionData['price_ratio'] = regressionData['price_usd'] / regressionData['price_usd_average']\n",
    "regressionData['price_ratio_sq'] = regressionData['price_ratio']**2\n",
    "\n",
    "# New Regressor: (StarRating - Ave StarRating)\n",
    "regressionData = regressionData.merge(pd.DataFrame({regressionDataStarRating.index.name: regressionDataStarRating.index, \n",
    "                                                    regressionDataStarRating.name: regressionDataStarRating.values}), \n",
    "                                      how = 'left', on = 'srch_id')\n",
    "regressionData['prop_starrating_centred'] = regressionData['prop_starrating'] - regressionData['prop_starrating_average']\n",
    "\n",
    "# New Regressor: (ReviewScore - Ave ReviewScore)\n",
    "regressionData = regressionData.merge(pd.DataFrame({regressionDataReviewScore.index.name: regressionDataReviewScore.index, \n",
    "                                                    regressionDataReviewScore.name: regressionDataReviewScore.values}), \n",
    "                                      how = 'left', on = 'srch_id')\n",
    "regressionData['prop_review_score_centred'] = regressionData['prop_review_score'] - regressionData['prop_review_score_average']\n",
    "\n",
    "# New Regressor: (LocationScore1 - LocationScore1)\n",
    "regressionData = regressionData.merge(pd.DataFrame({regressionDataLocScore1.index.name: regressionDataLocScore1.index, \n",
    "                                                    regressionDataLocScore1.name: regressionDataLocScore1.values}), \n",
    "                                      how = 'left', on = 'srch_id')\n",
    "regressionData['prop_location_score1_centred'] \\\n",
    "= regressionData['prop_location_score1'] - regressionData['prop_location_score1_average']\n",
    "\n",
    "# New Regressor: (Historical Price / Ave Historical Price) Ratio\n",
    "regressionData = regressionData.merge(pd.DataFrame({regressionDataHistPrice.index.name: regressionDataHistPrice.index, \n",
    "                                                    regressionDataHistPrice.name: regressionDataHistPrice.values}), \n",
    "                                      how = 'left', on = 'srch_id')\n",
    "regressionData['historical_price_ratio'] \\\n",
    "= regressionData['prop_historical_price'] / regressionData['prop_historical_price_average']\n",
    "regressionData['historical_price_ratio_sq'] = regressionData['historical_price_ratio']**2\n",
    "\n",
    "# New Regressor: (Brand Bool * Price Ratio) interaction term\n",
    "regressionData['brand:priceratio'] = regressionData['prop_brand_bool'] * regressionData['price_ratio']\n"
   ]
  },
  {
   "cell_type": "code",
   "execution_count": 5,
   "metadata": {
    "collapsed": false,
    "scrolled": false
   },
   "outputs": [
    {
     "name": "stdout",
     "output_type": "stream",
     "text": [
      "Optimization terminated successfully.\n",
      "         Current function value: 0.112098\n",
      "         Iterations 12\n",
      "                           Logit Regression Results                           \n",
      "==============================================================================\n",
      "Dep. Variable:           booking_bool   No. Observations:              9902900\n",
      "Model:                          Logit   Df Residuals:                  9902888\n",
      "Method:                           MLE   Df Model:                           11\n",
      "Date:                Thu, 15 Jun 2017   Pseudo R-squ.:                  0.1200\n",
      "Time:                        11:34:23   Log-Likelihood:            -1.1101e+06\n",
      "converged:                       True   LL-Null:                   -1.2615e+06\n",
      "                                        LLR p-value:                     0.000\n",
      "================================================================================================\n",
      "                                   coef    std err          z      P>|z|      [95.0% Conf. Int.]\n",
      "------------------------------------------------------------------------------------------------\n",
      "const                           -1.8033      0.018   -100.707      0.000        -1.838    -1.768\n",
      "price_ratio                     -1.4758      0.013   -113.709      0.000        -1.501    -1.450\n",
      "brand:priceratio                -0.1940      0.013    -15.394      0.000        -0.219    -0.169\n",
      "price_ratio_sq                   0.0577      0.002     29.944      0.000         0.054     0.061\n",
      "prop_starrating_centred          0.2981      0.003     86.323      0.000         0.291     0.305\n",
      "prop_review_score_centred        0.1686      0.003     62.491      0.000         0.163     0.174\n",
      "prop_brand_bool                  0.3927      0.012     32.703      0.000         0.369     0.416\n",
      "prop_location_score1_centred     0.1017      0.002     41.552      0.000         0.097     0.106\n",
      "historical_price_ratio           0.8330      0.027     30.800      0.000         0.780     0.886\n",
      "historical_price_ratio_sq       -0.1517      0.010    -14.832      0.000        -0.172    -0.132\n",
      "position                        -0.1100      0.000   -384.714      0.000        -0.111    -0.109\n",
      "promotion_flag                   0.1435      0.004     32.799      0.000         0.135     0.152\n",
      "================================================================================================\n"
     ]
    }
   ],
   "source": [
    "target = ['booking_bool']\n",
    "regressors = ['price_ratio', 'brand:priceratio', 'price_ratio_sq', 'prop_starrating_centred',  'prop_review_score_centred', \n",
    "              'prop_brand_bool', 'prop_location_score1_centred', 'historical_price_ratio', 'historical_price_ratio_sq', \n",
    "              'position', 'promotion_flag']\n",
    "\n",
    "logitData = regressionData[target + regressors].dropna()\n",
    "\n",
    "logit = sm.Logit(logitData[target], add_constant(logitData[regressors]))\n",
    "result = logit.fit()\n",
    "print(result.summary())"
   ]
  },
  {
   "cell_type": "code",
   "execution_count": 181,
   "metadata": {
    "collapsed": false
   },
   "outputs": [
    {
     "name": "stdout",
     "output_type": "stream",
     "text": [
      "In-Sample Accuracy: 0.9721\n"
     ]
    }
   ],
   "source": [
    "# Accuracy Score\n",
    "temp = result.predict(add_constant(logitData[regressors]))\n",
    "truth = logitData[target].as_matrix().flatten()\n",
    "print(\"In-Sample Accuracy: %.4f\" % (np.sum(abs(truth - temp) < 0.5) / logitData.shape[0]))"
   ]
  },
  {
   "cell_type": "code",
   "execution_count": 67,
   "metadata": {
    "collapsed": false
   },
   "outputs": [
    {
     "data": {
      "image/png": "[encoded data removed]",
      "text/plain": [
       "<matplotlib.figure.Figure at 0x1640f75e0b8>"
      ]
     },
     "metadata": {},
     "output_type": "display_data"
    }
   ],
   "source": [
    "def graph(formula, x_range, vline, plt_title, plt_ytitle, plt_xtitle):  \n",
    "    x = np.array(x_range)  \n",
    "    y = eval(formula)\n",
    "    fig = plt.figure(figsize = (20, 10))\n",
    "    #fig.suptitle(plt_title, fontsize=14, fontweight='bold')\n",
    "    plt.plot(x, y) \n",
    "    plt.title(plt_title, fontweight = 'bold', fontsize = 16)\n",
    "    plt.xticks(np.arange(0, 15.01, 1))\n",
    "    plt.axvline(vline, color = 'grey', ls = 'dashed')\n",
    "    plt.ylabel(plt_ytitle, fontsize = 14)\n",
    "    plt.xlabel(plt_xtitle, fontsize = 14)\n",
    "    plt.show()\n",
    "\n",
    "# Price Ratio\n",
    "size_formula = 'np.exp(-1.4758*x -0.1940*x + 0.0577*(x**2))'\n",
    "size_range = np.arange(0, 15.01, 0.01)\n",
    "graph(size_formula, size_range, 1.0, \"Effects of Price Ratio on Odds of Sale for Hotel Chain\", \n",
    "      \"Multiplication Effect on Odds of Sale\", \"Price Ratio\")"
   ]
  },
  {
   "cell_type": "markdown",
   "metadata": {},
   "source": [
    "#### Optimize Expected Revenue"
   ]
  },
  {
   "cell_type": "code",
   "execution_count": 78,
   "metadata": {
    "collapsed": false
   },
   "outputs": [
    {
     "name": "stdout",
     "output_type": "stream",
     "text": [
      "Optimization terminated successfully.\n",
      "         Current function value: -0.069833\n",
      "         Iterations: 24\n",
      "         Function evaluations: 48\n"
     ]
    }
   ],
   "source": [
    "# Define Objective Function\n",
    "def f(x): \n",
    "    odds = np.exp(-1.0593 - 1.6698 * x + 0.0577 * (x**2))\n",
    "    return (odds / (1 + odds)) * x\n",
    "\n",
    "# Maximise f(x) = minimise -f(x)\n",
    "max_x = scipy.optimize.fmin(lambda x: -f(x), 0)"
   ]
  },
  {
   "cell_type": "code",
   "execution_count": 79,
   "metadata": {
    "collapsed": false
   },
   "outputs": [
    {
     "name": "stdout",
     "output_type": "stream",
     "text": [
      "Optimal Price Ratio: 0.699125\n"
     ]
    }
   ],
   "source": [
    "print(\"Optimal Price Ratio:\", max_x[0])"
   ]
  },
  {
   "cell_type": "code",
   "execution_count": 71,
   "metadata": {
    "collapsed": false
   },
   "outputs": [
    {
     "data": {
      "image/png": "[encoded data removed]",
      "text/plain": [
       "<matplotlib.figure.Figure at 0x16410a36630>"
      ]
     },
     "metadata": {},
     "output_type": "display_data"
    }
   ],
   "source": [
    "# Plot the objective function w.r.t. price ratio\n",
    "size_formula = 'np.exp(-1.0593 - 1.6698 * x + 0.0577 * (x**2)) * x / (1 + np.exp(-1.0593 - 1.6698 * x + 0.0577 * (x**2)))'\n",
    "size_range = np.arange(0, 15.01, 0.01)\n",
    "graph(size_formula, size_range, max_x[0], \"Expected Revenue as a Function of Price Ratio\", \n",
    "      \"Probability of Sale * Price Ratio\", \"Price Ratio\")\n"
   ]
  },
  {
   "cell_type": "markdown",
   "metadata": {},
   "source": [
    "## Appendix"
   ]
  },
  {
   "cell_type": "code",
   "execution_count": 36,
   "metadata": {
    "collapsed": false
   },
   "outputs": [
    {
     "data": {
      "text/plain": [
       "8424846    1000.35\n",
       "8424847    1000.47\n",
       "8424848    1000.57\n",
       "8424849     999.98\n",
       "8424850     999.81\n",
       "Name: orig_destination_distance, dtype: float64"
      ]
     },
     "execution_count": 36,
     "metadata": {},
     "output_type": "execute_result"
    }
   ],
   "source": [
    "searchData.loc[searchData['srch_id'] == 565631, 'orig_destination_distance']"
   ]
  },
  {
   "cell_type": "code",
   "execution_count": 39,
   "metadata": {
    "collapsed": false
   },
   "outputs": [
    {
     "data": {
      "text/plain": [
       "11692.98"
      ]
     },
     "execution_count": 39,
     "metadata": {},
     "output_type": "execute_result"
    }
   ],
   "source": [
    "np.max(searchData['orig_destination_distance'])"
   ]
  },
  {
   "cell_type": "code",
   "execution_count": 34,
   "metadata": {
    "collapsed": false
   },
   "outputs": [
    {
     "data": {
      "text/plain": [
       "3.3470835197727058"
      ]
     },
     "execution_count": 34,
     "metadata": {},
     "output_type": "execute_result"
    }
   ],
   "source": [
    "distStdBySrch = searchData.groupby(['srch_id'])['orig_destination_distance'].std()\n",
    "np.nanmean(distStdBySrch)"
   ]
  },
  {
   "cell_type": "code",
   "execution_count": 38,
   "metadata": {
    "collapsed": false
   },
   "outputs": [
    {
     "data": {
      "text/plain": [
       "srch_id\n",
       "506967    110.937681\n",
       "Name: orig_destination_distance, dtype: float64"
      ]
     },
     "execution_count": 38,
     "metadata": {},
     "output_type": "execute_result"
    }
   ],
   "source": [
    "distStdBySrch[distStdBySrch > 100]"
   ]
  }
 ],
 "metadata": {
  "kernelspec": {
   "display_name": "Python [conda root]",
   "language": "python",
   "name": "conda-root-py"
  },
  "language_info": {
   "codemirror_mode": {
    "name": "ipython",
    "version": 3
   },
   "file_extension": ".py",
   "mimetype": "text/x-python",
   "name": "python",
   "nbconvert_exporter": "python",
   "pygments_lexer": "ipython3",
   "version": "3.5.2"
  }
 },
 "nbformat": 4,
 "nbformat_minor": 2
}
